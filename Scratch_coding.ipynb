{
 "cells": [
  {
   "cell_type": "code",
   "execution_count": 1,
   "id": "2baa69cd",
   "metadata": {
    "id": "2baa69cd"
   },
   "outputs": [
    {
     "name": "stderr",
     "output_type": "stream",
     "text": [
      "/home/thaott1/miniconda3/envs/pt/lib/python3.7/site-packages/tqdm/auto.py:22: TqdmWarning: IProgress not found. Please update jupyter and ipywidgets. See https://ipywidgets.readthedocs.io/en/stable/user_install.html\n",
      "  from .autonotebook import tqdm as notebook_tqdm\n"
     ]
    }
   ],
   "source": [
    "from pathlib import Path\n",
    "import torch\n",
    "import matplotlib.pyplot as plt\n",
    "import torchvision.transforms as transforms\n",
    "import numpy as np\n",
    "import torchvision.transforms.functional as TF\n",
    "from torch.utils.data import Dataset, DataLoader\n",
    "from tqdm import tqdm\n"
   ]
  },
  {
   "cell_type": "code",
   "execution_count": 2,
   "id": "1721eee3",
   "metadata": {
    "id": "1721eee3"
   },
   "outputs": [],
   "source": [
    "import torchvision.models as models\n",
    "import torchvision\n",
    "import torch.nn as nn\n",
    "from torch import Tensor\n",
    "from torchvision.models.resnet import BasicBlock,Bottleneck\n",
    "import torch.optim as optim"
   ]
  },
  {
   "cell_type": "code",
   "execution_count": 3,
   "id": "259a31e2",
   "metadata": {
    "id": "259a31e2"
   },
   "outputs": [],
   "source": [
    "path = Path('.')"
   ]
  },
  {
   "cell_type": "code",
   "execution_count": 4,
   "id": "578bb440",
   "metadata": {
    "id": "578bb440"
   },
   "outputs": [],
   "source": [
    "class Unet_ResNet(nn.Module):\n",
    "    def __init__(self):\n",
    "        super().__init__()\n",
    "        self.conv_input = nn.Sequential(nn.Conv2d(in_channels=3, out_channels=64, kernel_size=1, stride=1, padding=0, bias=False),\n",
    "                      nn.BatchNorm2d(64, eps=1e-05, momentum=0.1, affine=True, track_running_stats=True),\n",
    "                      nn.ReLU(inplace=True))\n",
    "        layers = []\n",
    "        downsample = nn.Sequential(\n",
    "          nn.Conv2d(64, 256, kernel_size=(1, 1), stride=(1, 1), bias=False),\n",
    "          nn.BatchNorm2d(256, eps=1e-05, momentum=0.1, affine=True, track_running_stats=True)\n",
    "        )\n",
    "        layers.append(Bottleneck(64,64, downsample=downsample))\n",
    "        for _ in range(0, 4):\n",
    "            layers.append(Bottleneck(256, 64))\n",
    "        self.blocks = nn.Sequential(*layers)\n",
    "        self.conv_end = nn.Sequential( nn.Conv2d(in_channels=256, out_channels=3, kernel_size=1, stride=1, padding=0),\n",
    "                                  nn.ReLU(inplace=True))\n",
    "        #Reference source code for initialization of Batch Norm and Conv2d https://pytorch.org/vision/0.8/_modules/torchvision/models/resnet.html\n",
    "        for m in self.modules():\n",
    "            if isinstance(m, nn.Conv2d):\n",
    "                nn.init.kaiming_normal_(m.weight, mode=\"fan_out\", nonlinearity=\"relu\")\n",
    "            elif isinstance(m, (nn.BatchNorm2d, nn.GroupNorm)):\n",
    "                nn.init.constant_(m.weight, 1)\n",
    "                nn.init.constant_(m.bias, 0)\n",
    "    def forward(self, x: Tensor) -> Tensor:\n",
    "        orig = x\n",
    "        x = self.conv_input(x)\n",
    "        x = self.blocks(x)\n",
    "        x = self.conv_end(x)\n",
    "        x = orig + x\n",
    "        return x"
   ]
  },
  {
   "cell_type": "code",
   "execution_count": 10,
   "id": "cbe9140f",
   "metadata": {
    "id": "cbe9140f"
   },
   "outputs": [],
   "source": [
    "def imshow(img):\n",
    "    img = img/2 + 0.5\n",
    "    img_np = img.numpy()\n",
    "    plt.imshow(np.transpose(img_np, (1, 2, 0)))\n",
    "    plt.show()"
   ]
  },
  {
   "cell_type": "code",
   "execution_count": 11,
   "id": "cbd7a7c4",
   "metadata": {
    "id": "cbd7a7c4"
   },
   "outputs": [],
   "source": [
    "classes = ('plane', 'car', 'bird', 'cat',\n",
    "           'deer', 'dog', 'frog', 'horse', 'ship', 'truck')"
   ]
  },
  {
   "cell_type": "code",
   "execution_count": 14,
   "id": "aadf44c7",
   "metadata": {
    "colab": {
     "base_uri": "https://localhost:8080/",
     "height": 284
    },
    "id": "aadf44c7",
    "outputId": "6a75f92f-295a-42dc-e176-ed3e6d800c5b"
   },
   "outputs": [
    {
     "name": "stdout",
     "output_type": "stream",
     "text": [
      "frog\n"
     ]
    },
    {
     "data": {
      "image/png": "[encoded data removed]",
      "text/plain": [
       "<Figure size 432x288 with 1 Axes>"
      ]
     },
     "metadata": {
      "needs_background": "light"
     },
     "output_type": "display_data"
    }
   ],
   "source": [
    "print(classes[label])\n",
    "imshow(img)"
   ]
  },
  {
   "cell_type": "code",
   "execution_count": 15,
   "id": "6f7ac90d",
   "metadata": {
    "id": "6f7ac90d"
   },
   "outputs": [],
   "source": [
    "#Sample one image\n",
    "img, label = data.__getitem__(0)"
   ]
  },
  {
   "cell_type": "code",
   "execution_count": 16,
   "id": "6a18b125",
   "metadata": {
    "id": "6a18b125"
   },
   "outputs": [],
   "source": [
    "def add_arrow(img):\n",
    "    start = 2\n",
    "    for i in range(start,start+7):\n",
    "        img[:,i,start+6] = 0\n",
    "    for i in range(start+5,start+8):\n",
    "        img[:,start+1,i] = 0\n",
    "    for i in range(start+4,start+9):\n",
    "        img[:,start+2,i] = 0\n",
    "    return img"
   ]
  },
  {
   "cell_type": "code",
   "execution_count": 17,
   "id": "00dd2a75",
   "metadata": {
    "colab": {
     "base_uri": "https://localhost:8080/",
     "height": 266
    },
    "id": "00dd2a75",
    "outputId": "147f64fe-b6a8-4745-8d22-805c1d44d147"
   },
   "outputs": [
    {
     "data": {
      "image/png": "[encoded data removed]",
      "text/plain": [
       "<Figure size 432x288 with 1 Axes>"
      ]
     },
     "metadata": {
      "needs_background": "light"
     },
     "output_type": "display_data"
    }
   ],
   "source": [
    "imshow(img)"
   ]
  },
  {
   "cell_type": "code",
   "execution_count": 18,
   "id": "87949306",
   "metadata": {
    "id": "87949306"
   },
   "outputs": [],
   "source": [
    "class arrowedCIFAR(Dataset):\n",
    "    \"\"\"Make CIFAR with arrow\"\"\"\n",
    "\n",
    "    def __init__(self, train=True):\n",
    "        transform = transforms.Compose(\n",
    "        [transforms.ToTensor(),\n",
    "         transforms.Normalize((0.5, 0.5, 0.5), (0.5, 0.5, 0.5))])\n",
    "        self.train = train\n",
    "        if self.train:\n",
    "            self.cifar = torchvision.datasets.CIFAR10(root = path/'data', download = True, transform=transform, train = True)\n",
    "        else:\n",
    "            self.cifar = torchvision.datasets.CIFAR10(root = path/'data', download = True, transform=transform, train = False)\n",
    "        self.data = []\n",
    "        self.labels = []\n",
    "        for i in tqdm(range(len(self.cifar))):\n",
    "            self.data.append(add_arrow(self.cifar.__getitem__(i)[0])) #Only care about the rotation\n",
    "            self.labels.append(0)\n",
    "            for k, angle in enumerate([90, 180, 270]):\n",
    "                img = add_arrow(self.cifar.__getitem__(i)[0])\n",
    "                self.data.append(TF.rotate(img, angle))\n",
    "                self.labels.append(k+1) #Add the rest of labels\n",
    "            \n",
    "    def __len__(self):\n",
    "        return len(self.labels)\n",
    "\n",
    "    def __getitem__(self, idx):\n",
    "        return self.data[idx], self.labels[idx]"
   ]
  },
  {
   "cell_type": "code",
   "execution_count": 19,
   "id": "71b1b575",
   "metadata": {
    "colab": {
     "base_uri": "https://localhost:8080/"
    },
    "id": "71b1b575",
    "outputId": "49228918-c616-4d77-9d0b-b2ca31d72680"
   },
   "outputs": [
    {
     "name": "stdout",
     "output_type": "stream",
     "text": [
      "Files already downloaded and verified\n"
     ]
    },
    {
     "name": "stderr",
     "output_type": "stream",
     "text": [
      "100%|███████████████████████████████████████████████████████████████████████████| 50000/50000 [01:19<00:00, 630.70it/s]\n"
     ]
    },
    {
     "name": "stdout",
     "output_type": "stream",
     "text": [
      "Files already downloaded and verified\n"
     ]
    },
    {
     "name": "stderr",
     "output_type": "stream",
     "text": [
      "100%|███████████████████████████████████████████████████████████████████████████| 10000/10000 [00:15<00:00, 626.52it/s]\n"
     ]
    }
   ],
   "source": [
    "trainset = arrowedCIFAR(train=True)\n",
    "testset = arrowedCIFAR(train=False)"
   ]
  },
  {
   "cell_type": "code",
   "execution_count": 20,
   "id": "quL5NpdrOeuj",
   "metadata": {
    "id": "quL5NpdrOeuj"
   },
   "outputs": [],
   "source": [
    "batch_size = 256\n",
    "trainloader = torch.utils.data.DataLoader(trainset, batch_size=batch_size,\n",
    "                                          shuffle=True)"
   ]
  },
  {
   "cell_type": "code",
   "execution_count": 26,
   "id": "39e5de4b",
   "metadata": {
    "id": "39e5de4b"
   },
   "outputs": [],
   "source": [
    "def recon_loss(raw_inputs, lens_output):\n",
    "    loss = nn.MSELoss(reduction = 'sum')\n",
    "    return loss(raw_inputs,lens_output)"
   ]
  },
  {
   "cell_type": "code",
   "execution_count": 27,
   "id": "26b55955",
   "metadata": {
    "id": "26b55955"
   },
   "outputs": [],
   "source": [
    "def lens_loss(raw_inputs, lens_output, lambda_term, ssl_loss = None, min_probs = None, final_outputs = None):\n",
    "    #Adversarial loss: two types\n",
    "    if ssl_loss:\n",
    "        total_loss = -ssl_loss + lambda_term*recon_loss(raw_inputs, lens_output)\n",
    "    else: \n",
    "        celoss = nn.CrossEntropyLoss()\n",
    "        adv_loss = celoss(final_outputs,min_probs)\n",
    "        total_loss = adv_loss + lambda_term*recon_loss(raw_inputs, lens_output)\n",
    "    return total_loss"
   ]
  },
  {
   "cell_type": "code",
   "execution_count": 28,
   "id": "695cbc93",
   "metadata": {
    "id": "695cbc93"
   },
   "outputs": [],
   "source": [
    "class Resnet_FC4(nn.Module):\n",
    "    def __init__(self):\n",
    "        super().__init__()\n",
    "        #Feature extraction\n",
    "        res = models.resnet50()\n",
    "        res.fc = torch.nn.Linear(in_features=2048, out_features=4, bias=True)\n",
    "        self.res = res\n",
    "    def forward(self, x: Tensor) -> Tensor:\n",
    "        x = self.res(x)\n",
    "        return x"
   ]
  },
  {
   "cell_type": "code",
   "execution_count": 29,
   "id": "p1lx4pbhKOwK",
   "metadata": {
    "colab": {
     "base_uri": "https://localhost:8080/"
    },
    "id": "p1lx4pbhKOwK",
    "outputId": "4aba29d8-e7f2-4bb4-e148-b5dd4d4e2aa2"
   },
   "outputs": [
    {
     "data": {
      "text/plain": [
       "device(type='cuda')"
      ]
     },
     "execution_count": 29,
     "metadata": {},
     "output_type": "execute_result"
    }
   ],
   "source": [
    "device = torch.device('cuda' if torch.cuda.is_available() else 'cpu')\n",
    "device"
   ]
  },
  {
   "cell_type": "code",
   "execution_count": 30,
   "id": "ac194b72",
   "metadata": {
    "id": "ac194b72"
   },
   "outputs": [],
   "source": [
    "criterion = nn.CrossEntropyLoss(reduction='sum')\n",
    "sm = nn.Softmax(dim = 1)"
   ]
  },
  {
   "cell_type": "code",
   "execution_count": 31,
   "id": "ae462f1a",
   "metadata": {},
   "outputs": [],
   "source": [
    "torch.cuda.empty_cache()"
   ]
  },
  {
   "cell_type": "code",
   "execution_count": 106,
   "id": "o2q-YkOZXOz8",
   "metadata": {
    "colab": {
     "base_uri": "https://localhost:8080/"
    },
    "id": "o2q-YkOZXOz8",
    "outputId": "2ac80f47-aef7-42a6-90b0-e66dc940ce56"
   },
   "outputs": [
    {
     "data": {
      "text/plain": [
       "Resnet_FC4(\n",
       "  (res): ResNet(\n",
       "    (conv1): Conv2d(3, 64, kernel_size=(7, 7), stride=(2, 2), padding=(3, 3), bias=False)\n",
       "    (bn1): BatchNorm2d(64, eps=1e-05, momentum=0.1, affine=True, track_running_stats=True)\n",
       "    (relu): ReLU(inplace=True)\n",
       "    (maxpool): MaxPool2d(kernel_size=3, stride=2, padding=1, dilation=1, ceil_mode=False)\n",
       "    (layer1): Sequential(\n",
       "      (0): Bottleneck(\n",
       "        (conv1): Conv2d(64, 64, kernel_size=(1, 1), stride=(1, 1), bias=False)\n",
       "        (bn1): BatchNorm2d(64, eps=1e-05, momentum=0.1, affine=True, track_running_stats=True)\n",
       "        (conv2): Conv2d(64, 64, kernel_size=(3, 3), stride=(1, 1), padding=(1, 1), bias=False)\n",
       "        (bn2): BatchNorm2d(64, eps=1e-05, momentum=0.1, affine=True, track_running_stats=True)\n",
       "        (conv3): Conv2d(64, 256, kernel_size=(1, 1), stride=(1, 1), bias=False)\n",
       "        (bn3): BatchNorm2d(256, eps=1e-05, momentum=0.1, affine=True, track_running_stats=True)\n",
       "        (relu): ReLU(inplace=True)\n",
       "        (downsample): Sequential(\n",
       "          (0): Conv2d(64, 256, kernel_size=(1, 1), stride=(1, 1), bias=False)\n",
       "          (1): BatchNorm2d(256, eps=1e-05, momentum=0.1, affine=True, track_running_stats=True)\n",
       "        )\n",
       "      )\n",
       "      (1): Bottleneck(\n",
       "        (conv1): Conv2d(256, 64, kernel_size=(1, 1), stride=(1, 1), bias=False)\n",
       "        (bn1): BatchNorm2d(64, eps=1e-05, momentum=0.1, affine=True, track_running_stats=True)\n",
       "        (conv2): Conv2d(64, 64, kernel_size=(3, 3), stride=(1, 1), padding=(1, 1), bias=False)\n",
       "        (bn2): BatchNorm2d(64, eps=1e-05, momentum=0.1, affine=True, track_running_stats=True)\n",
       "        (conv3): Conv2d(64, 256, kernel_size=(1, 1), stride=(1, 1), bias=False)\n",
       "        (bn3): BatchNorm2d(256, eps=1e-05, momentum=0.1, affine=True, track_running_stats=True)\n",
       "        (relu): ReLU(inplace=True)\n",
       "      )\n",
       "      (2): Bottleneck(\n",
       "        (conv1): Conv2d(256, 64, kernel_size=(1, 1), stride=(1, 1), bias=False)\n",
       "        (bn1): BatchNorm2d(64, eps=1e-05, momentum=0.1, affine=True, track_running_stats=True)\n",
       "        (conv2): Conv2d(64, 64, kernel_size=(3, 3), stride=(1, 1), padding=(1, 1), bias=False)\n",
       "        (bn2): BatchNorm2d(64, eps=1e-05, momentum=0.1, affine=True, track_running_stats=True)\n",
       "        (conv3): Conv2d(64, 256, kernel_size=(1, 1), stride=(1, 1), bias=False)\n",
       "        (bn3): BatchNorm2d(256, eps=1e-05, momentum=0.1, affine=True, track_running_stats=True)\n",
       "        (relu): ReLU(inplace=True)\n",
       "      )\n",
       "    )\n",
       "    (layer2): Sequential(\n",
       "      (0): Bottleneck(\n",
       "        (conv1): Conv2d(256, 128, kernel_size=(1, 1), stride=(1, 1), bias=False)\n",
       "        (bn1): BatchNorm2d(128, eps=1e-05, momentum=0.1, affine=True, track_running_stats=True)\n",
       "        (conv2): Conv2d(128, 128, kernel_size=(3, 3), stride=(2, 2), padding=(1, 1), bias=False)\n",
       "        (bn2): BatchNorm2d(128, eps=1e-05, momentum=0.1, affine=True, track_running_stats=True)\n",
       "        (conv3): Conv2d(128, 512, kernel_size=(1, 1), stride=(1, 1), bias=False)\n",
       "        (bn3): BatchNorm2d(512, eps=1e-05, momentum=0.1, affine=True, track_running_stats=True)\n",
       "        (relu): ReLU(inplace=True)\n",
       "        (downsample): Sequential(\n",
       "          (0): Conv2d(256, 512, kernel_size=(1, 1), stride=(2, 2), bias=False)\n",
       "          (1): BatchNorm2d(512, eps=1e-05, momentum=0.1, affine=True, track_running_stats=True)\n",
       "        )\n",
       "      )\n",
       "      (1): Bottleneck(\n",
       "        (conv1): Conv2d(512, 128, kernel_size=(1, 1), stride=(1, 1), bias=False)\n",
       "        (bn1): BatchNorm2d(128, eps=1e-05, momentum=0.1, affine=True, track_running_stats=True)\n",
       "        (conv2): Conv2d(128, 128, kernel_size=(3, 3), stride=(1, 1), padding=(1, 1), bias=False)\n",
       "        (bn2): BatchNorm2d(128, eps=1e-05, momentum=0.1, affine=True, track_running_stats=True)\n",
       "        (conv3): Conv2d(128, 512, kernel_size=(1, 1), stride=(1, 1), bias=False)\n",
       "        (bn3): BatchNorm2d(512, eps=1e-05, momentum=0.1, affine=True, track_running_stats=True)\n",
       "        (relu): ReLU(inplace=True)\n",
       "      )\n",
       "      (2): Bottleneck(\n",
       "        (conv1): Conv2d(512, 128, kernel_size=(1, 1), stride=(1, 1), bias=False)\n",
       "        (bn1): BatchNorm2d(128, eps=1e-05, momentum=0.1, affine=True, track_running_stats=True)\n",
       "        (conv2): Conv2d(128, 128, kernel_size=(3, 3), stride=(1, 1), padding=(1, 1), bias=False)\n",
       "        (bn2): BatchNorm2d(128, eps=1e-05, momentum=0.1, affine=True, track_running_stats=True)\n",
       "        (conv3): Conv2d(128, 512, kernel_size=(1, 1), stride=(1, 1), bias=False)\n",
       "        (bn3): BatchNorm2d(512, eps=1e-05, momentum=0.1, affine=True, track_running_stats=True)\n",
       "        (relu): ReLU(inplace=True)\n",
       "      )\n",
       "      (3): Bottleneck(\n",
       "        (conv1): Conv2d(512, 128, kernel_size=(1, 1), stride=(1, 1), bias=False)\n",
       "        (bn1): BatchNorm2d(128, eps=1e-05, momentum=0.1, affine=True, track_running_stats=True)\n",
       "        (conv2): Conv2d(128, 128, kernel_size=(3, 3), stride=(1, 1), padding=(1, 1), bias=False)\n",
       "        (bn2): BatchNorm2d(128, eps=1e-05, momentum=0.1, affine=True, track_running_stats=True)\n",
       "        (conv3): Conv2d(128, 512, kernel_size=(1, 1), stride=(1, 1), bias=False)\n",
       "        (bn3): BatchNorm2d(512, eps=1e-05, momentum=0.1, affine=True, track_running_stats=True)\n",
       "        (relu): ReLU(inplace=True)\n",
       "      )\n",
       "    )\n",
       "    (layer3): Sequential(\n",
       "      (0): Bottleneck(\n",
       "        (conv1): Conv2d(512, 256, kernel_size=(1, 1), stride=(1, 1), bias=False)\n",
       "        (bn1): BatchNorm2d(256, eps=1e-05, momentum=0.1, affine=True, track_running_stats=True)\n",
       "        (conv2): Conv2d(256, 256, kernel_size=(3, 3), stride=(2, 2), padding=(1, 1), bias=False)\n",
       "        (bn2): BatchNorm2d(256, eps=1e-05, momentum=0.1, affine=True, track_running_stats=True)\n",
       "        (conv3): Conv2d(256, 1024, kernel_size=(1, 1), stride=(1, 1), bias=False)\n",
       "        (bn3): BatchNorm2d(1024, eps=1e-05, momentum=0.1, affine=True, track_running_stats=True)\n",
       "        (relu): ReLU(inplace=True)\n",
       "        (downsample): Sequential(\n",
       "          (0): Conv2d(512, 1024, kernel_size=(1, 1), stride=(2, 2), bias=False)\n",
       "          (1): BatchNorm2d(1024, eps=1e-05, momentum=0.1, affine=True, track_running_stats=True)\n",
       "        )\n",
       "      )\n",
       "      (1): Bottleneck(\n",
       "        (conv1): Conv2d(1024, 256, kernel_size=(1, 1), stride=(1, 1), bias=False)\n",
       "        (bn1): BatchNorm2d(256, eps=1e-05, momentum=0.1, affine=True, track_running_stats=True)\n",
       "        (conv2): Conv2d(256, 256, kernel_size=(3, 3), stride=(1, 1), padding=(1, 1), bias=False)\n",
       "        (bn2): BatchNorm2d(256, eps=1e-05, momentum=0.1, affine=True, track_running_stats=True)\n",
       "        (conv3): Conv2d(256, 1024, kernel_size=(1, 1), stride=(1, 1), bias=False)\n",
       "        (bn3): BatchNorm2d(1024, eps=1e-05, momentum=0.1, affine=True, track_running_stats=True)\n",
       "        (relu): ReLU(inplace=True)\n",
       "      )\n",
       "      (2): Bottleneck(\n",
       "        (conv1): Conv2d(1024, 256, kernel_size=(1, 1), stride=(1, 1), bias=False)\n",
       "        (bn1): BatchNorm2d(256, eps=1e-05, momentum=0.1, affine=True, track_running_stats=True)\n",
       "        (conv2): Conv2d(256, 256, kernel_size=(3, 3), stride=(1, 1), padding=(1, 1), bias=False)\n",
       "        (bn2): BatchNorm2d(256, eps=1e-05, momentum=0.1, affine=True, track_running_stats=True)\n",
       "        (conv3): Conv2d(256, 1024, kernel_size=(1, 1), stride=(1, 1), bias=False)\n",
       "        (bn3): BatchNorm2d(1024, eps=1e-05, momentum=0.1, affine=True, track_running_stats=True)\n",
       "        (relu): ReLU(inplace=True)\n",
       "      )\n",
       "      (3): Bottleneck(\n",
       "        (conv1): Conv2d(1024, 256, kernel_size=(1, 1), stride=(1, 1), bias=False)\n",
       "        (bn1): BatchNorm2d(256, eps=1e-05, momentum=0.1, affine=True, track_running_stats=True)\n",
       "        (conv2): Conv2d(256, 256, kernel_size=(3, 3), stride=(1, 1), padding=(1, 1), bias=False)\n",
       "        (bn2): BatchNorm2d(256, eps=1e-05, momentum=0.1, affine=True, track_running_stats=True)\n",
       "        (conv3): Conv2d(256, 1024, kernel_size=(1, 1), stride=(1, 1), bias=False)\n",
       "        (bn3): BatchNorm2d(1024, eps=1e-05, momentum=0.1, affine=True, track_running_stats=True)\n",
       "        (relu): ReLU(inplace=True)\n",
       "      )\n",
       "      (4): Bottleneck(\n",
       "        (conv1): Conv2d(1024, 256, kernel_size=(1, 1), stride=(1, 1), bias=False)\n",
       "        (bn1): BatchNorm2d(256, eps=1e-05, momentum=0.1, affine=True, track_running_stats=True)\n",
       "        (conv2): Conv2d(256, 256, kernel_size=(3, 3), stride=(1, 1), padding=(1, 1), bias=False)\n",
       "        (bn2): BatchNorm2d(256, eps=1e-05, momentum=0.1, affine=True, track_running_stats=True)\n",
       "        (conv3): Conv2d(256, 1024, kernel_size=(1, 1), stride=(1, 1), bias=False)\n",
       "        (bn3): BatchNorm2d(1024, eps=1e-05, momentum=0.1, affine=True, track_running_stats=True)\n",
       "        (relu): ReLU(inplace=True)\n",
       "      )\n",
       "      (5): Bottleneck(\n",
       "        (conv1): Conv2d(1024, 256, kernel_size=(1, 1), stride=(1, 1), bias=False)\n",
       "        (bn1): BatchNorm2d(256, eps=1e-05, momentum=0.1, affine=True, track_running_stats=True)\n",
       "        (conv2): Conv2d(256, 256, kernel_size=(3, 3), stride=(1, 1), padding=(1, 1), bias=False)\n",
       "        (bn2): BatchNorm2d(256, eps=1e-05, momentum=0.1, affine=True, track_running_stats=True)\n",
       "        (conv3): Conv2d(256, 1024, kernel_size=(1, 1), stride=(1, 1), bias=False)\n",
       "        (bn3): BatchNorm2d(1024, eps=1e-05, momentum=0.1, affine=True, track_running_stats=True)\n",
       "        (relu): ReLU(inplace=True)\n",
       "      )\n",
       "    )\n",
       "    (layer4): Sequential(\n",
       "      (0): Bottleneck(\n",
       "        (conv1): Conv2d(1024, 512, kernel_size=(1, 1), stride=(1, 1), bias=False)\n",
       "        (bn1): BatchNorm2d(512, eps=1e-05, momentum=0.1, affine=True, track_running_stats=True)\n",
       "        (conv2): Conv2d(512, 512, kernel_size=(3, 3), stride=(2, 2), padding=(1, 1), bias=False)\n",
       "        (bn2): BatchNorm2d(512, eps=1e-05, momentum=0.1, affine=True, track_running_stats=True)\n",
       "        (conv3): Conv2d(512, 2048, kernel_size=(1, 1), stride=(1, 1), bias=False)\n",
       "        (bn3): BatchNorm2d(2048, eps=1e-05, momentum=0.1, affine=True, track_running_stats=True)\n",
       "        (relu): ReLU(inplace=True)\n",
       "        (downsample): Sequential(\n",
       "          (0): Conv2d(1024, 2048, kernel_size=(1, 1), stride=(2, 2), bias=False)\n",
       "          (1): BatchNorm2d(2048, eps=1e-05, momentum=0.1, affine=True, track_running_stats=True)\n",
       "        )\n",
       "      )\n",
       "      (1): Bottleneck(\n",
       "        (conv1): Conv2d(2048, 512, kernel_size=(1, 1), stride=(1, 1), bias=False)\n",
       "        (bn1): BatchNorm2d(512, eps=1e-05, momentum=0.1, affine=True, track_running_stats=True)\n",
       "        (conv2): Conv2d(512, 512, kernel_size=(3, 3), stride=(1, 1), padding=(1, 1), bias=False)\n",
       "        (bn2): BatchNorm2d(512, eps=1e-05, momentum=0.1, affine=True, track_running_stats=True)\n",
       "        (conv3): Conv2d(512, 2048, kernel_size=(1, 1), stride=(1, 1), bias=False)\n",
       "        (bn3): BatchNorm2d(2048, eps=1e-05, momentum=0.1, affine=True, track_running_stats=True)\n",
       "        (relu): ReLU(inplace=True)\n",
       "      )\n",
       "      (2): Bottleneck(\n",
       "        (conv1): Conv2d(2048, 512, kernel_size=(1, 1), stride=(1, 1), bias=False)\n",
       "        (bn1): BatchNorm2d(512, eps=1e-05, momentum=0.1, affine=True, track_running_stats=True)\n",
       "        (conv2): Conv2d(512, 512, kernel_size=(3, 3), stride=(1, 1), padding=(1, 1), bias=False)\n",
       "        (bn2): BatchNorm2d(512, eps=1e-05, momentum=0.1, affine=True, track_running_stats=True)\n",
       "        (conv3): Conv2d(512, 2048, kernel_size=(1, 1), stride=(1, 1), bias=False)\n",
       "        (bn3): BatchNorm2d(2048, eps=1e-05, momentum=0.1, affine=True, track_running_stats=True)\n",
       "        (relu): ReLU(inplace=True)\n",
       "      )\n",
       "    )\n",
       "    (avgpool): AdaptiveAvgPool2d(output_size=(1, 1))\n",
       "    (fc): Linear(in_features=2048, out_features=4, bias=True)\n",
       "  )\n",
       ")"
      ]
     },
     "execution_count": 106,
     "metadata": {},
     "output_type": "execute_result"
    }
   ],
   "source": [
    "model1 = Unet_ResNet()\n",
    "model1.to(device)\n",
    "model2 = Resnet_FC4()\n",
    "model2.to(device)"
   ]
  },
  {
   "cell_type": "code",
   "execution_count": 107,
   "id": "972e08be",
   "metadata": {},
   "outputs": [],
   "source": [
    "#Hyper parameter tuning\n",
    "lr = 0.001\n",
    "epochs = 10\n",
    "lambda_term = 0"
   ]
  },
  {
   "cell_type": "code",
   "execution_count": 108,
   "id": "PohaciUjBZoy",
   "metadata": {
    "id": "PohaciUjBZoy"
   },
   "outputs": [],
   "source": [
    "optim1 = optim.Adam(model1.parameters(), lr=lr, betas=(0.1, 0.001), eps=1e-07)\n",
    "optim2 = optim.Adam(model2.parameters(), lr=lr, betas=(0.1, 0.001), eps=1e-07)"
   ]
  },
  {
   "cell_type": "code",
   "execution_count": null,
   "id": "03ee6706",
   "metadata": {
    "colab": {
     "base_uri": "https://localhost:8080/",
     "height": 316
    },
    "id": "03ee6706",
    "outputId": "0d048cb9-08ba-4703-fef0-94210a804d68"
   },
   "outputs": [
    {
     "name": "stdout",
     "output_type": "stream",
     "text": [
      "[0, batch 50] ssl_loss: 478.890 lens_loss: 3.066\n"
     ]
    }
   ],
   "source": [
    "for epoch in range(epochs):\n",
    "    ssl_losses = 0.0\n",
    "    lens_losses = 0.0\n",
    "    for i, (inputs, labels) in enumerate(trainloader):\n",
    "        #Zero gradients out\n",
    "        optim1.zero_grad()\n",
    "        optim2.zero_grad()\n",
    "        inputs, labels = inputs.to(device), labels.to(device)\n",
    "        lens_output = model1(inputs)\n",
    "        lens_out_detach = lens_output.detach()\n",
    "        lens_out_detach.requires_grad_(True) \n",
    "        outputs = model2(lens_out_detach)\n",
    "        #For type 2 of Adversarial loss\n",
    "        min_probs = torch.argmin(sm(outputs),dim=1)\n",
    "        ssl_loss = criterion(outputs, labels)\n",
    "#         l_loss = lens_loss(inputs, lens_out_detach, lambda_term = lambda_term, ssl_loss = ssl_loss, \n",
    "#                            min_probs = None, final_outputs = None)\n",
    "        l_loss = lens_loss(inputs, lens_out_detach, lambda_term = lambda_term, min_probs = min_probs, final_outputs = outputs)\n",
    "        l_loss.backward(retain_graph=True)\n",
    "        lens_output.backward(lens_out_detach.grad) #Let the grad of l_loss go thru\n",
    "        optim2.zero_grad() #Clear out l_loss grad from model2\n",
    "        ssl_loss.backward()\n",
    "        #print(model2.res.conv1.weight.grad)\n",
    "        #print(model1.conv_input[0].weight.grad)\n",
    "        #Update step\n",
    "        optim1.step()\n",
    "        optim2.step()\n",
    "        ssl_losses += ssl_loss.item()\n",
    "        lens_losses += l_loss.item()\n",
    "        if i>0 and i % 50 == 0: \n",
    "            print(f'[{epoch}, batch {i}] ssl_loss: {ssl_losses / i:.3f} lens_loss: {lens_losses / i:.3f}')"
   ]
  },
  {
   "cell_type": "markdown",
   "id": "7f5999d9",
   "metadata": {},
   "source": [
    "## Evaluation of pretext task"
   ]
  },
  {
   "cell_type": "code",
   "execution_count": 54,
   "id": "65f40551",
   "metadata": {},
   "outputs": [],
   "source": [
    "batch_size = 256\n",
    "testloader = torch.utils.data.DataLoader(testset, batch_size=batch_size,\n",
    "                                          shuffle=True)"
   ]
  },
  {
   "cell_type": "code",
   "execution_count": 55,
   "id": "d57d823c",
   "metadata": {},
   "outputs": [
    {
     "name": "stdout",
     "output_type": "stream",
     "text": [
      "Accuracy on test images: 99 %\n"
     ]
    }
   ],
   "source": [
    "#Evaluation\n",
    "correct = 0\n",
    "total = 0\n",
    "with torch.no_grad():\n",
    "    for data in testloader:\n",
    "        images, labels = data\n",
    "        outputs = model2(images.to(device))\n",
    "        predicted = torch.argmax(sm(outputs), dim = 1).cpu()\n",
    "        total += labels.size(0)\n",
    "        correct += (predicted == labels).sum().item()\n",
    "print(f'Accuracy on test images: {100 * correct // total} %')"
   ]
  },
  {
   "cell_type": "markdown",
   "id": "336eef19",
   "metadata": {},
   "source": [
    "## Visualization inspection"
   ]
  },
  {
   "cell_type": "code",
   "execution_count": 97,
   "id": "069cfebb",
   "metadata": {},
   "outputs": [],
   "source": [
    "batch_size = 256\n",
    "testloader = torch.utils.data.DataLoader(testset, batch_size=batch_size,\n",
    "                                          shuffle=True)"
   ]
  },
  {
   "cell_type": "code",
   "execution_count": 98,
   "id": "d8fbd9e5",
   "metadata": {},
   "outputs": [],
   "source": [
    "img, label = next(iter(testloader))"
   ]
  },
  {
   "cell_type": "code",
   "execution_count": 99,
   "id": "8c8fb337",
   "metadata": {
    "id": "8c8fb337"
   },
   "outputs": [
    {
     "name": "stdout",
     "output_type": "stream",
     "text": [
      "tensor(0.0614, device='cuda:0')\n"
     ]
    }
   ],
   "source": [
    "model1.eval()\n",
    "with torch.no_grad():\n",
    "    img_lensed = model1(img.to(device))\n",
    "    pred = model2(model1(img.to(device)))\n",
    "    print(criterion(pred, label.to(device)))"
   ]
  },
  {
   "cell_type": "code",
   "execution_count": 100,
   "id": "rPPW7eiSk4JG",
   "metadata": {
    "colab": {
     "base_uri": "https://localhost:8080/",
     "height": 266
    },
    "id": "rPPW7eiSk4JG",
    "outputId": "eb63158f-e72e-4ca4-c8a9-3f88b868a81e"
   },
   "outputs": [],
   "source": [
    "seeing_index = 3"
   ]
  },
  {
   "cell_type": "code",
   "execution_count": 101,
   "id": "99811bb8",
   "metadata": {},
   "outputs": [
    {
     "data": {
      "text/plain": [
       "tensor([3, 0, 3, 3, 1, 3, 3, 1, 0, 0, 0, 2, 0, 1, 0, 0, 0, 1, 0, 2, 3, 0, 0, 3,\n",
       "        2, 1, 1, 3, 2, 0, 1, 1, 3, 2, 2, 0, 0, 3, 0, 3, 0, 3, 2, 2, 0, 3, 1, 0,\n",
       "        3, 3, 1, 0, 1, 3, 1, 2, 3, 1, 1, 0, 2, 0, 2, 2, 0, 0, 3, 2, 1, 1, 1, 2,\n",
       "        1, 2, 3, 3, 3, 0, 3, 1, 0, 1, 0, 0, 0, 3, 3, 3, 3, 1, 1, 0, 2, 0, 0, 3,\n",
       "        2, 0, 0, 2, 0, 0, 0, 3, 2, 1, 0, 1, 1, 3, 2, 3, 0, 1, 0, 3, 1, 2, 1, 2,\n",
       "        0, 2, 2, 1, 3, 3, 2, 0, 1, 3, 3, 3, 2, 2, 1, 3, 3, 0, 2, 3, 0, 1, 1, 1,\n",
       "        0, 0, 1, 3, 0, 0, 3, 3, 1, 0, 3, 1, 0, 1, 3, 0, 2, 3, 3, 0, 0, 0, 3, 1,\n",
       "        3, 0, 2, 2, 2, 0, 0, 3, 2, 0, 3, 0, 3, 3, 1, 0, 3, 3, 2, 2, 3, 1, 1, 0,\n",
       "        2, 3, 3, 0, 0, 2, 1, 3, 0, 1, 1, 3, 2, 1, 1, 2, 0, 3, 2, 1, 2, 2, 3, 1,\n",
       "        0, 3, 2, 3, 1, 0, 2, 2, 3, 2, 3, 2, 3, 1, 3, 3, 0, 1, 2, 0, 3, 3, 1, 2,\n",
       "        2, 1, 0, 2, 1, 0, 2, 3, 2, 0, 1, 0, 1, 3, 1, 3])"
      ]
     },
     "execution_count": 101,
     "metadata": {},
     "output_type": "execute_result"
    }
   ],
   "source": [
    "label"
   ]
  },
  {
   "cell_type": "code",
   "execution_count": 102,
   "id": "64b6ec27",
   "metadata": {},
   "outputs": [
    {
     "data": {
      "text/plain": [
       "tensor([3, 0, 3, 3, 1, 3, 3, 1, 0, 0, 0, 2, 0, 1, 0, 0, 0, 1, 0, 2, 3, 0, 0, 3,\n",
       "        2, 1, 1, 3, 2, 0, 1, 1, 3, 2, 2, 0, 0, 3, 0, 3, 0, 3, 2, 2, 0, 3, 1, 0,\n",
       "        3, 3, 1, 0, 1, 3, 1, 2, 3, 1, 1, 0, 2, 0, 2, 2, 0, 0, 3, 2, 1, 1, 1, 2,\n",
       "        1, 2, 3, 3, 3, 0, 3, 1, 0, 1, 0, 0, 0, 3, 3, 3, 3, 1, 1, 0, 2, 0, 0, 3,\n",
       "        2, 0, 0, 2, 0, 0, 0, 3, 2, 1, 0, 1, 1, 3, 2, 3, 0, 1, 0, 3, 1, 2, 1, 2,\n",
       "        0, 2, 2, 1, 3, 3, 2, 0, 1, 3, 3, 3, 2, 2, 1, 3, 3, 0, 2, 3, 0, 1, 1, 1,\n",
       "        0, 0, 1, 3, 0, 0, 3, 3, 1, 0, 3, 1, 0, 1, 3, 0, 2, 3, 3, 0, 0, 0, 3, 1,\n",
       "        3, 0, 2, 2, 2, 0, 0, 3, 2, 0, 3, 0, 3, 3, 1, 0, 3, 3, 2, 2, 3, 1, 1, 0,\n",
       "        2, 3, 3, 0, 0, 2, 1, 3, 0, 1, 1, 3, 2, 1, 1, 2, 0, 3, 2, 1, 2, 2, 3, 1,\n",
       "        0, 3, 2, 3, 1, 0, 2, 2, 3, 2, 3, 2, 3, 1, 3, 3, 0, 1, 2, 0, 3, 3, 1, 2,\n",
       "        2, 1, 0, 2, 1, 0, 2, 3, 2, 0, 1, 0, 1, 3, 1, 3], device='cuda:0')"
      ]
     },
     "execution_count": 102,
     "metadata": {},
     "output_type": "execute_result"
    }
   ],
   "source": [
    "torch.argmax(sm(pred), dim = 1)"
   ]
  },
  {
   "cell_type": "code",
   "execution_count": 103,
   "id": "2fdd2f11",
   "metadata": {},
   "outputs": [
    {
     "data": {
      "image/png": "[encoded data removed]",
      "text/plain": [
       "<Figure size 432x288 with 1 Axes>"
      ]
     },
     "metadata": {
      "needs_background": "light"
     },
     "output_type": "display_data"
    }
   ],
   "source": [
    "imshow(img[seeing_index].squeeze())"
   ]
  },
  {
   "cell_type": "code",
   "execution_count": 104,
   "id": "277a5bf6",
   "metadata": {},
   "outputs": [
    {
     "data": {
      "image/png": "[encoded data removed]",
      "text/plain": [
       "<Figure size 432x288 with 1 Axes>"
      ]
     },
     "metadata": {
      "needs_background": "light"
     },
     "output_type": "display_data"
    }
   ],
   "source": [
    "imshow(img_lensed[seeing_index].squeeze().cpu())"
   ]
  },
  {
   "cell_type": "code",
   "execution_count": 96,
   "id": "H3XCdG1npmvO",
   "metadata": {
    "colab": {
     "base_uri": "https://localhost:8080/"
    },
    "id": "H3XCdG1npmvO",
    "outputId": "54d512c8-1e44-4791-b9be-803d5ca04323"
   },
   "outputs": [
    {
     "data": {
      "text/plain": [
       "tensor(0.)"
      ]
     },
     "execution_count": 96,
     "metadata": {},
     "output_type": "execute_result"
    }
   ],
   "source": [
    "k = nn.MSELoss(reduction = 'mean')\n",
    "k(img[seeing_index],img_lensed[seeing_index].squeeze().cpu())"
   ]
  },
  {
   "cell_type": "markdown",
   "id": "d85758d6",
   "metadata": {
    "id": "d85758d6"
   },
   "source": [
    "## Coding for the color aberration"
   ]
  },
  {
   "cell_type": "code",
   "execution_count": null,
   "id": "99ed0aea",
   "metadata": {
    "id": "99ed0aea"
   },
   "outputs": [],
   "source": [
    "img_zeros = np.zeros((3,32,32))"
   ]
  },
  {
   "cell_type": "code",
   "execution_count": null,
   "id": "8e25c5df",
   "metadata": {
    "id": "8e25c5df"
   },
   "outputs": [],
   "source": [
    "img_zeros[2,:,:] = img[2,:,:]\n",
    "img_zeros[0,:,:] = img[0,:,:]"
   ]
  },
  {
   "cell_type": "code",
   "execution_count": null,
   "id": "83965fd8",
   "metadata": {
    "id": "83965fd8"
   },
   "outputs": [],
   "source": [
    "move = 1"
   ]
  },
  {
   "cell_type": "code",
   "execution_count": null,
   "id": "5f540a72",
   "metadata": {
    "id": "5f540a72"
   },
   "outputs": [],
   "source": [
    "img_zeros[1,:,move:32] = img[1,:,0:32-move]\n",
    "img_zeros[1,:,0:move] = img[1,:,32-move:32] #Shifting up"
   ]
  },
  {
   "cell_type": "code",
   "execution_count": null,
   "id": "a7d9e1a2",
   "metadata": {
    "id": "a7d9e1a2"
   },
   "outputs": [],
   "source": [
    "img_zeros.shape"
   ]
  },
  {
   "cell_type": "code",
   "execution_count": null,
   "id": "c06fca86",
   "metadata": {
    "id": "c06fca86"
   },
   "outputs": [],
   "source": [
    "img_zeros = img_zeros/2 + 0.5\n",
    "plt.imshow(np.transpose(img_zeros, (1, 2, 0)))\n",
    "plt.show()"
   ]
  },
  {
   "cell_type": "code",
   "execution_count": null,
   "id": "91e6c85e",
   "metadata": {
    "id": "91e6c85e"
   },
   "outputs": [],
   "source": [
    "imshow(img)"
   ]
  },
  {
   "cell_type": "markdown",
   "id": "a861a708",
   "metadata": {},
   "source": [
    "## Downstream Evaluation"
   ]
  },
  {
   "cell_type": "code",
   "execution_count": null,
   "id": "3f881465",
   "metadata": {},
   "outputs": [],
   "source": [
    "class Logistic_Net(nn.Module):\n",
    "    def __init__(self, pretrained_lens_path, pretrained_extractor_path):\n",
    "        super().__init__()\n",
    "        lens = torch.load(pretrained_lens_path)\n",
    "        extractor = torch.load(pretrained_lens_path)\n",
    "        \n",
    "        #Frozen all the parameters of both\n",
    "        \n",
    "        #Change the FC of extractor \n",
    "        \n",
    "        #Require gradient for the FC\n",
    "\n",
    "    def forward(self, x: Tensor) -> Tensor:\n",
    "        x = self.lens(x)\n",
    "        x = self.extractor(x)\n",
    "        return x"
   ]
  },
  {
   "cell_type": "code",
   "execution_count": null,
   "id": "ec1bb65a",
   "metadata": {},
   "outputs": [],
   "source": [
    "transform = transforms.Compose(\n",
    "    [transforms.ToTensor(),\n",
    "     transforms.Normalize((0.5, 0.5, 0.5), (0.5, 0.5, 0.5))])"
   ]
  },
  {
   "cell_type": "code",
   "execution_count": null,
   "id": "399404c7",
   "metadata": {},
   "outputs": [],
   "source": [
    "classes = ('plane', 'car', 'bird', 'cat',\n",
    "           'deer', 'dog', 'frog', 'horse', 'ship', 'truck')"
   ]
  },
  {
   "cell_type": "code",
   "execution_count": null,
   "id": "6796a865",
   "metadata": {},
   "outputs": [],
   "source": [
    "trainset = torchvision.datasets.CIFAR10(root='./data', train=True,\n",
    "                                        download=True, transform=transform)"
   ]
  },
  {
   "cell_type": "code",
   "execution_count": null,
   "id": "bf0e4abd",
   "metadata": {},
   "outputs": [],
   "source": [
    "batch_size = 256\n",
    "trainloader = torch.utils.data.DataLoader(trainset, batch_size=batch_size, shuffle=True)"
   ]
  },
  {
   "cell_type": "markdown",
   "id": "85e9ac3b",
   "metadata": {},
   "source": [
    "### Downstream training"
   ]
  },
  {
   "cell_type": "code",
   "execution_count": null,
   "id": "0391f209",
   "metadata": {},
   "outputs": [],
   "source": [
    "#Hyper parameter tuning\n",
    "lr = 0.001\n",
    "epochs = 10\n",
    "criterion = nn.CrossEntropyLoss(reduction='sum')\n"
   ]
  },
  {
   "cell_type": "code",
   "execution_count": null,
   "id": "6068c22f",
   "metadata": {},
   "outputs": [],
   "source": [
    "model = Logistic_Net()\n",
    "model.to(device)"
   ]
  },
  {
   "cell_type": "code",
   "execution_count": null,
   "id": "cae352da",
   "metadata": {},
   "outputs": [],
   "source": [
    "optim = optim.Adam(model.parameters(), lr=lr)"
   ]
  },
  {
   "cell_type": "code",
   "execution_count": null,
   "id": "2c0b33f4",
   "metadata": {},
   "outputs": [],
   "source": [
    "for epoch in range(epochs):\n",
    "    losses = 0.0\n",
    "    lens_losses = 0.0\n",
    "    for i, (inputs, labels) in enumerate(trainloader):\n",
    "        optim.zero_grad()\n",
    "        inputs, labels = inputs.to(device), labels.to(device)\n",
    "        outputs = model(inputs)\n",
    "        loss = criterion(outputs, labels)\n",
    "        loss.backward()\n",
    "        optim.step()\n",
    "        losses += loss.item()\n",
    "        if i>0 and i % 50 == 0:\n",
    "            print(f'[{epoch}, batch {i}] loss: {losses / i:.3f}')"
   ]
  },
  {
   "cell_type": "code",
   "execution_count": null,
   "id": "6e1fd8de",
   "metadata": {},
   "outputs": [],
   "source": []
  },
  {
   "cell_type": "markdown",
   "id": "bad7938b",
   "metadata": {},
   "source": [
    "### Downstream evaluation"
   ]
  },
  {
   "cell_type": "code",
   "execution_count": null,
   "id": "1918f3e3",
   "metadata": {},
   "outputs": [],
   "source": [
    "testset = torchvision.datasets.CIFAR10(root='./data', train=False,\n",
    "                                       download=True, transform=transform)"
   ]
  },
  {
   "cell_type": "code",
   "execution_count": null,
   "id": "55d0d135",
   "metadata": {},
   "outputs": [],
   "source": [
    "batch_size = 256\n",
    "testloader = torch.utils.data.DataLoader(testset, batch_size=batch_size, shuffle=False)"
   ]
  },
  {
   "cell_type": "code",
   "execution_count": null,
   "id": "40ddff1a",
   "metadata": {},
   "outputs": [],
   "source": [
    "sm = nn.Softmax(dim = 1)"
   ]
  },
  {
   "cell_type": "code",
   "execution_count": null,
   "id": "41869330",
   "metadata": {},
   "outputs": [],
   "source": [
    "#Evaluation\n",
    "correct = 0\n",
    "total = 0\n",
    "with torch.no_grad():\n",
    "    for data in testloader:\n",
    "        images, labels = data\n",
    "        outputs = model(images.to(device))\n",
    "        predicted = torch.argmax(sm(outputs), dim = 1).cpu()\n",
    "        total += labels.size(0)\n",
    "        correct += (predicted == labels).sum().item()\n",
    "print(f'Accuracy on test images: {100 * correct // total} %')"
   ]
  },
  {
   "cell_type": "code",
   "execution_count": null,
   "id": "890805ce",
   "metadata": {},
   "outputs": [],
   "source": []
  },
  {
   "cell_type": "code",
   "execution_count": null,
   "id": "ad3d8de5",
   "metadata": {},
   "outputs": [],
   "source": []
  }
 ],
 "metadata": {
  "accelerator": "GPU",
  "colab": {
   "collapsed_sections": [
    "d85758d6"
   ],
   "name": "Scratch coding.ipynb",
   "provenance": []
  },
  "kernelspec": {
   "display_name": "Python 3 (ipykernel)",
   "language": "python",
   "name": "python3"
  },
  "language_info": {
   "codemirror_mode": {
    "name": "ipython",
    "version": 3
   },
   "file_extension": ".py",
   "mimetype": "text/x-python",
   "name": "python",
   "nbconvert_exporter": "python",
   "pygments_lexer": "ipython3",
   "version": "3.7.13"
  }
 },
 "nbformat": 4,
 "nbformat_minor": 5
}
