{
 "cells": [
  {
   "cell_type": "code",
   "execution_count": 10,
   "id": "2baa69cd",
   "metadata": {},
   "outputs": [],
   "source": [
    "from pathlib import Path\n",
    "import torch\n",
    "import matplotlib.pyplot as plt\n",
    "import torchvision.transforms as transforms\n",
    "import numpy as np\n",
    "import torchvision.transforms.functional as TF\n",
    "from torch.utils.data import Dataset, DataLoader\n",
    "from tqdm import tqdm\n",
    "from torchinfo import summary"
   ]
  },
  {
   "cell_type": "code",
   "execution_count": 17,
   "id": "6586a44b",
   "metadata": {},
   "outputs": [],
   "source": [
    "import torchvision.models as models\n",
    "import torchvision\n",
    "import torch.nn as nn\n",
    "from torch import Tensor\n",
    "from torchvision.models.resnet import BasicBlock\n",
    "import torch.optim as optim\n"
   ]
  },
  {
   "cell_type": "code",
   "execution_count": 18,
   "id": "259a31e2",
   "metadata": {},
   "outputs": [],
   "source": [
    "path = Path('.')"
   ]
  },
  {
   "cell_type": "code",
   "execution_count": 19,
   "id": "9533ecd8",
   "metadata": {},
   "outputs": [],
   "source": [
    "class Unet_ResNet(nn.Module):\n",
    "    def __init__(self):\n",
    "        super().__init__()\n",
    "        self.conv_input = nn.Sequential(nn.Conv2d(in_channels=3, out_channels=64, kernel_size=1, stride=1, padding=0),\n",
    "                                  nn.ReLU(inplace=True))\n",
    "        layers = []\n",
    "        for _ in range(0, 5):\n",
    "            layers.append(BasicBlock(64, 64))\n",
    "        self.blocks = nn.Sequential(*layers)\n",
    "        \n",
    "        self.conv_end = nn.Sequential( nn.Conv2d(in_channels=64, out_channels=3, kernel_size=1, stride=1, padding=0),\n",
    "                                  nn.ReLU(inplace=True))\n",
    "        #Reference source code for initialization of Batch Norm and Conv2d https://pytorch.org/vision/0.8/_modules/torchvision/models/resnet.html\n",
    "        for m in self.modules():\n",
    "            if isinstance(m, nn.Conv2d):\n",
    "                nn.init.kaiming_normal_(m.weight, mode=\"fan_out\", nonlinearity=\"relu\")\n",
    "            elif isinstance(m, (nn.BatchNorm2d, nn.GroupNorm)):\n",
    "                nn.init.constant_(m.weight, 1)\n",
    "                nn.init.constant_(m.bias, 0)\n",
    "    def forward(self, x: Tensor) -> Tensor:\n",
    "        x = self.conv_input(x)\n",
    "        x = self.blocks(x)\n",
    "        x = self.conv_end(x)\n",
    "        return x"
   ]
  },
  {
   "cell_type": "code",
   "execution_count": 20,
   "id": "cd5ed876",
   "metadata": {},
   "outputs": [],
   "source": []
  },
  {
   "cell_type": "code",
   "execution_count": 21,
   "id": "4fefb371",
   "metadata": {},
   "outputs": [],
   "source": [
    "transform = transforms.Compose(\n",
    "    [transforms.ToTensor(),\n",
    "     transforms.Normalize((0.5, 0.5, 0.5), (0.5, 0.5, 0.5))])"
   ]
  },
  {
   "cell_type": "code",
   "execution_count": 22,
   "id": "85545af1",
   "metadata": {},
   "outputs": [
    {
     "name": "stdout",
     "output_type": "stream",
     "text": [
      "Files already downloaded and verified\n"
     ]
    }
   ],
   "source": [
    "#Get the CIFAR dataset in\n",
    "data = torchvision.datasets.CIFAR10(root = path/'data', download = True, transform=transform)"
   ]
  },
  {
   "cell_type": "code",
   "execution_count": 23,
   "id": "09e935d5",
   "metadata": {},
   "outputs": [
    {
     "data": {
      "text/plain": [
       "50000"
      ]
     },
     "execution_count": 23,
     "metadata": {},
     "output_type": "execute_result"
    }
   ],
   "source": [
    "len(data)"
   ]
  },
  {
   "cell_type": "code",
   "execution_count": 24,
   "id": "8ec251da",
   "metadata": {},
   "outputs": [],
   "source": [
    "#Sample one image\n",
    "img, label = data.__getitem__(0)"
   ]
  },
  {
   "cell_type": "code",
   "execution_count": 25,
   "id": "9735f963",
   "metadata": {},
   "outputs": [
    {
     "data": {
      "text/plain": [
       "torch.Tensor"
      ]
     },
     "execution_count": 25,
     "metadata": {},
     "output_type": "execute_result"
    }
   ],
   "source": [
    "type(img)"
   ]
  },
  {
   "cell_type": "code",
   "execution_count": 26,
   "id": "cbe9140f",
   "metadata": {},
   "outputs": [],
   "source": [
    "def imshow(img):\n",
    "    img = img/2 + 0.5\n",
    "    img_np = img.numpy()\n",
    "    plt.imshow(np.transpose(img_np, (1, 2, 0)))\n",
    "    plt.show()"
   ]
  },
  {
   "cell_type": "code",
   "execution_count": 27,
   "id": "cbd7a7c4",
   "metadata": {},
   "outputs": [],
   "source": [
    "classes = ('plane', 'car', 'bird', 'cat',\n",
    "           'deer', 'dog', 'frog', 'horse', 'ship', 'truck')"
   ]
  },
  {
   "cell_type": "code",
   "execution_count": 28,
   "id": "4462dbe6",
   "metadata": {},
   "outputs": [],
   "source": [
    "img = TF.rotate(img, -90)"
   ]
  },
  {
   "cell_type": "code",
   "execution_count": 29,
   "id": "9b6990ad",
   "metadata": {},
   "outputs": [
    {
     "data": {
      "text/plain": [
       "array([[[ 0.38823533,  0.41176474,  0.6313726 , ..., -0.8039216 ,\n",
       "         -0.8745098 , -0.5372549 ],\n",
       "        [ 0.3176471 ,  0.35686278,  0.5764706 , ..., -0.8745098 ,\n",
       "         -1.        , -0.6627451 ],\n",
       "        [ 0.4039216 ,  0.45882356,  0.5529412 , ..., -0.6156863 ,\n",
       "         -0.85882354, -0.60784316],\n",
       "        ...,\n",
       "        [ 0.69411767,  0.4431373 ,  0.254902  , ..., -0.0745098 ,\n",
       "         -0.03529412,  0.23921573],\n",
       "        [ 0.18431377, -0.23921567, -0.56078434, ..., -0.05882353,\n",
       "         -0.06666666,  0.19215691],\n",
       "        [-0.03529412, -0.3490196 , -0.58431375, ..., -0.14509803,\n",
       "         -0.04313725,  0.16078436]],\n",
       "\n",
       "       [[ 0.12941182,  0.09019613,  0.33333337, ..., -0.8117647 ,\n",
       "         -0.84313726, -0.5137255 ],\n",
       "        [ 0.01176476, -0.03529412,  0.20000005, ..., -0.94509804,\n",
       "         -1.        , -0.6392157 ],\n",
       "        [ 0.11372554,  0.12941182,  0.26274514, ..., -0.7882353 ,\n",
       "         -0.9372549 , -0.62352943],\n",
       "        ...,\n",
       "        [ 0.4431373 ,  0.16078436,  0.04313731, ..., -0.34117645,\n",
       "         -0.3098039 ,  0.03529418],\n",
       "        [-0.0745098 , -0.5137255 , -0.75686276, ..., -0.34117645,\n",
       "         -0.3490196 , -0.01960784],\n",
       "        [-0.27843136, -0.58431375, -0.73333335, ..., -0.42745095,\n",
       "         -0.31764704, -0.02745098]],\n",
       "\n",
       "       [[-0.09019607, -0.24705881, -0.24705881, ..., -0.8352941 ,\n",
       "         -0.84313726, -0.5058824 ],\n",
       "        [-0.26274508, -0.67058825, -0.73333335, ..., -1.        ,\n",
       "         -1.        , -0.64705884],\n",
       "        [-0.31764704, -0.7647059 , -0.79607844, ..., -0.9372549 ,\n",
       "         -1.        , -0.6627451 ],\n",
       "        ...,\n",
       "        [ 0.09803927, -0.26274508, -0.45098037, ..., -0.60784316,\n",
       "         -0.5686275 , -0.15294117],\n",
       "        [-0.34117645, -0.73333335, -0.94509804, ..., -0.60784316,\n",
       "         -0.60784316, -0.19999999],\n",
       "        [-0.4352941 , -0.73333335, -0.84313726, ..., -0.67058825,\n",
       "         -0.5529412 , -0.19215685]]], dtype=float32)"
      ]
     },
     "execution_count": 29,
     "metadata": {},
     "output_type": "execute_result"
    }
   ],
   "source": [
    "#Gotta add an arrow to this numpy matrix\n",
    "img.numpy()"
   ]
  },
  {
   "cell_type": "code",
   "execution_count": 30,
   "id": "aadf44c7",
   "metadata": {},
   "outputs": [
    {
     "name": "stdout",
     "output_type": "stream",
     "text": [
      "frog\n"
     ]
    },
    {
     "data": {
      "image/png": "[encoded data removed]",
      "text/plain": [
       "<Figure size 432x288 with 1 Axes>"
      ]
     },
     "metadata": {
      "needs_background": "light"
     },
     "output_type": "display_data"
    }
   ],
   "source": [
    "print(classes[label])\n",
    "imshow(img)"
   ]
  },
  {
   "cell_type": "code",
   "execution_count": 31,
   "id": "6f7ac90d",
   "metadata": {},
   "outputs": [],
   "source": [
    "#Sample one image\n",
    "img, label = data.__getitem__(0)"
   ]
  },
  {
   "cell_type": "code",
   "execution_count": 32,
   "id": "6a18b125",
   "metadata": {},
   "outputs": [],
   "source": [
    "def add_arrow(img):\n",
    "    start = 2\n",
    "    for i in range(start,start+7):\n",
    "        img[:,i,start+6] = 0\n",
    "    for i in range(start+5,start+8):\n",
    "        img[:,start+1,i] = 0\n",
    "    for i in range(start+4,start+9):\n",
    "        img[:,start+2,i] = 0\n",
    "    return img"
   ]
  },
  {
   "cell_type": "code",
   "execution_count": 33,
   "id": "00dd2a75",
   "metadata": {},
   "outputs": [
    {
     "data": {
      "image/png": "[encoded data removed]",
      "text/plain": [
       "<Figure size 432x288 with 1 Axes>"
      ]
     },
     "metadata": {
      "needs_background": "light"
     },
     "output_type": "display_data"
    }
   ],
   "source": [
    "imshow(img)"
   ]
  },
  {
   "cell_type": "code",
   "execution_count": 34,
   "id": "87949306",
   "metadata": {},
   "outputs": [],
   "source": [
    "class arrowedCIFAR(Dataset):\n",
    "    \"\"\"Make CIFAR with arrow\"\"\"\n",
    "\n",
    "    def __init__(self, train=True):\n",
    "        transform = transforms.Compose(\n",
    "        [transforms.ToTensor(),\n",
    "         transforms.Normalize((0.5, 0.5, 0.5), (0.5, 0.5, 0.5))])\n",
    "        self.train = train\n",
    "        if self.train:\n",
    "            self.cifar = torchvision.datasets.CIFAR10(root = path/'data', download = True, transform=transform, train = True)\n",
    "        else:\n",
    "            self.cifar = torchvision.datasets.CIFAR10(root = path/'data', download = True, transform=transform, train = False)\n",
    "        self.data = []\n",
    "        self.labels = []\n",
    "        for i in tqdm(range(len(self.cifar))):\n",
    "            self.data.append(add_arrow(self.cifar.__getitem__(i)[0])) #Only care about the rotation\n",
    "            self.labels.append(0)\n",
    "            for k, angle in enumerate([90, 180, 270]):\n",
    "                img = add_arrow(self.cifar.__getitem__(i)[0])\n",
    "                self.data.append(TF.rotate(img, angle))\n",
    "                self.labels.append(k+1) #Add the rest of labels\n",
    "            \n",
    "    def __len__(self):\n",
    "        return len(self.labels)\n",
    "\n",
    "    def __getitem__(self, idx):\n",
    "        return self.data[idx], self.labels[idx]"
   ]
  },
  {
   "cell_type": "code",
   "execution_count": 35,
   "id": "71b1b575",
   "metadata": {},
   "outputs": [
    {
     "name": "stdout",
     "output_type": "stream",
     "text": [
      "Files already downloaded and verified\n"
     ]
    },
    {
     "name": "stderr",
     "output_type": "stream",
     "text": [
      "100%|███████████████████████████████████████████████████████████████████████████| 50000/50000 [02:01<00:00, 412.47it/s]\n"
     ]
    },
    {
     "name": "stdout",
     "output_type": "stream",
     "text": [
      "Files already downloaded and verified\n"
     ]
    },
    {
     "name": "stderr",
     "output_type": "stream",
     "text": [
      "100%|███████████████████████████████████████████████████████████████████████████| 10000/10000 [00:26<00:00, 376.82it/s]\n"
     ]
    }
   ],
   "source": [
    "batch_size = 32\n",
    "trainset = arrowedCIFAR(train=True)\n",
    "trainloader = torch.utils.data.DataLoader(trainset, batch_size=batch_size,\n",
    "                                          shuffle=True, num_workers=4)\n",
    "testset = arrowedCIFAR(train=False)\n",
    "testloader = torch.utils.data.DataLoader(testset, batch_size=batch_size,\n",
    "                                          shuffle=True, num_workers=4)\n"
   ]
  },
  {
   "cell_type": "code",
   "execution_count": 36,
   "id": "6b00831a",
   "metadata": {},
   "outputs": [],
   "source": [
    "img, label = trainset.__getitem__(5)"
   ]
  },
  {
   "cell_type": "code",
   "execution_count": 37,
   "id": "ed56dd2d",
   "metadata": {},
   "outputs": [
    {
     "data": {
      "image/png": "[encoded data removed]",
      "text/plain": [
       "<Figure size 432x288 with 1 Axes>"
      ]
     },
     "metadata": {
      "needs_background": "light"
     },
     "output_type": "display_data"
    }
   ],
   "source": [
    "imshow(img)"
   ]
  },
  {
   "cell_type": "code",
   "execution_count": 38,
   "id": "42b67fb9",
   "metadata": {},
   "outputs": [],
   "source": [
    "#Sample one image\n",
    "img, label = data.__getitem__(0)"
   ]
  },
  {
   "cell_type": "code",
   "execution_count": 39,
   "id": "e5c55388",
   "metadata": {},
   "outputs": [],
   "source": []
  },
  {
   "cell_type": "code",
   "execution_count": 40,
   "id": "6c5bf5a4",
   "metadata": {},
   "outputs": [
    {
     "data": {
      "text/plain": [
       "===============================================================================================\n",
       "Layer (type:depth-idx)                        Output Shape              Param #\n",
       "===============================================================================================\n",
       "Lens_Network                                  --                        --\n",
       "├─Unet_ResNet: 1-1                            [1, 3, 28, 28]            --\n",
       "│    └─Sequential: 2-1                        [1, 64, 28, 28]           --\n",
       "│    │    └─Conv2d: 3-1                       [1, 64, 28, 28]           256\n",
       "│    │    └─ReLU: 3-2                         [1, 64, 28, 28]           --\n",
       "│    └─Sequential: 2-2                        [1, 64, 28, 28]           --\n",
       "│    │    └─BasicBlock: 3-3                   [1, 64, 28, 28]           73,984\n",
       "│    │    └─BasicBlock: 3-4                   [1, 64, 28, 28]           73,984\n",
       "│    │    └─BasicBlock: 3-5                   [1, 64, 28, 28]           73,984\n",
       "│    │    └─BasicBlock: 3-6                   [1, 64, 28, 28]           73,984\n",
       "│    │    └─BasicBlock: 3-7                   [1, 64, 28, 28]           73,984\n",
       "│    └─Sequential: 2-3                        [1, 3, 28, 28]            --\n",
       "│    │    └─Conv2d: 3-8                       [1, 3, 28, 28]            195\n",
       "│    │    └─ReLU: 3-9                         [1, 3, 28, 28]            --\n",
       "├─ResNet: 1-2                                 [1, 4]                    --\n",
       "│    └─Conv2d: 2-4                            [1, 64, 14, 14]           9,408\n",
       "│    └─BatchNorm2d: 2-5                       [1, 64, 14, 14]           128\n",
       "│    └─ReLU: 2-6                              [1, 64, 14, 14]           --\n",
       "│    └─MaxPool2d: 2-7                         [1, 64, 7, 7]             --\n",
       "│    └─Sequential: 2-8                        [1, 256, 7, 7]            --\n",
       "│    │    └─Bottleneck: 3-10                  [1, 256, 7, 7]            75,008\n",
       "│    │    └─Bottleneck: 3-11                  [1, 256, 7, 7]            70,400\n",
       "│    │    └─Bottleneck: 3-12                  [1, 256, 7, 7]            70,400\n",
       "│    └─Sequential: 2-9                        [1, 512, 4, 4]            --\n",
       "│    │    └─Bottleneck: 3-13                  [1, 512, 4, 4]            379,392\n",
       "│    │    └─Bottleneck: 3-14                  [1, 512, 4, 4]            280,064\n",
       "│    │    └─Bottleneck: 3-15                  [1, 512, 4, 4]            280,064\n",
       "│    │    └─Bottleneck: 3-16                  [1, 512, 4, 4]            280,064\n",
       "│    └─Sequential: 2-10                       [1, 1024, 2, 2]           --\n",
       "│    │    └─Bottleneck: 3-17                  [1, 1024, 2, 2]           1,512,448\n",
       "│    │    └─Bottleneck: 3-18                  [1, 1024, 2, 2]           1,117,184\n",
       "│    │    └─Bottleneck: 3-19                  [1, 1024, 2, 2]           1,117,184\n",
       "│    │    └─Bottleneck: 3-20                  [1, 1024, 2, 2]           1,117,184\n",
       "│    │    └─Bottleneck: 3-21                  [1, 1024, 2, 2]           1,117,184\n",
       "│    │    └─Bottleneck: 3-22                  [1, 1024, 2, 2]           1,117,184\n",
       "│    └─Sequential: 2-11                       [1, 2048, 1, 1]           --\n",
       "│    │    └─Bottleneck: 3-23                  [1, 2048, 1, 1]           6,039,552\n",
       "│    │    └─Bottleneck: 3-24                  [1, 2048, 1, 1]           4,462,592\n",
       "│    │    └─Bottleneck: 3-25                  [1, 2048, 1, 1]           4,462,592\n",
       "│    └─AdaptiveAvgPool2d: 2-12                [1, 2048, 1, 1]           --\n",
       "│    └─Linear: 2-13                           [1, 4]                    8,196\n",
       "===============================================================================================\n",
       "Total params: 23,886,599\n",
       "Trainable params: 23,886,599\n",
       "Non-trainable params: 0\n",
       "Total mult-adds (M): 368.59\n",
       "===============================================================================================\n",
       "Input size (MB): 0.01\n",
       "Forward/backward pass size (MB): 11.65\n",
       "Params size (MB): 95.55\n",
       "Estimated Total Size (MB): 107.20\n",
       "==============================================================================================="
      ]
     },
     "execution_count": 40,
     "metadata": {},
     "output_type": "execute_result"
    }
   ],
   "source": [
    "batch_size = 1\n",
    "summary(model, input_size=(batch_size, 3, 28, 28))"
   ]
  },
  {
   "cell_type": "code",
   "execution_count": 63,
   "id": "b1b4e814",
   "metadata": {},
   "outputs": [],
   "source": [
    "def recon_loss(raw_inputs, lens_output):\n",
    "    loss = nn.MSELoss(reduction = 'sum')\n",
    "    return loss(raw_inputs,lens_output)"
   ]
  },
  {
   "cell_type": "code",
   "execution_count": 64,
   "id": "ff60342a",
   "metadata": {},
   "outputs": [],
   "source": [
    "def lens_loss(ssl_loss, raw_inputs, lens_output, lambda_term = 0.01):\n",
    "    #Adevrsarial loss\n",
    "    total_loss = -ssl_loss + lambda_term*recon_loss(raw_inputs, lens_output)\n",
    "    return total_loss"
   ]
  },
  {
   "cell_type": "code",
   "execution_count": 65,
   "id": "be306f3b",
   "metadata": {},
   "outputs": [
    {
     "data": {
      "text/plain": [
       "tensor(38.1903)"
      ]
     },
     "execution_count": 65,
     "metadata": {},
     "output_type": "execute_result"
    }
   ],
   "source": [
    "loss = nn.MSELoss(reduction = 'sum') \n",
    "loss(torch.randn(2, 2,3),torch.randn(2, 2,3))"
   ]
  },
  {
   "cell_type": "code",
   "execution_count": 66,
   "id": "1e518219",
   "metadata": {},
   "outputs": [],
   "source": []
  },
  {
   "cell_type": "code",
   "execution_count": 72,
   "id": "7cc5a611",
   "metadata": {},
   "outputs": [],
   "source": [
    "class Resnet_FC4(nn.Module):\n",
    "    def __init__(self):\n",
    "        super().__init__()\n",
    "        #Feature extraction\n",
    "        res = models.resnet50()\n",
    "        res.fc = torch.nn.Linear(in_features=2048, out_features=4, bias=True)\n",
    "        self.res = res\n",
    "    def forward(self, x: Tensor) -> Tensor:\n",
    "        x = self.res(x)\n",
    "        return x"
   ]
  },
  {
   "cell_type": "code",
   "execution_count": 77,
   "id": "3e6340cf",
   "metadata": {},
   "outputs": [],
   "source": [
    "model1 = Unet_ResNet()\n",
    "optim1 = optim.Adam(model1.parameters(), lr=0.001)\n",
    "model2 = Resnet_FC4()\n",
    "optim2 = optim.Adam(model2.parameters(), lr=0.001)"
   ]
  },
  {
   "cell_type": "code",
   "execution_count": 78,
   "id": "ffd54028",
   "metadata": {},
   "outputs": [],
   "source": [
    "class Lens_Network(nn.Module):\n",
    "    def __init__(self):\n",
    "        super().__init__()\n",
    "        #Lens component\n",
    "        self.lens = Unet_ResNet()\n",
    "        \n",
    "        #Feature extraction\n",
    "        res = models.resnet50()\n",
    "        res.fc = torch.nn.Linear(in_features=2048, out_features=4, bias=True)\n",
    "        self.res = res\n",
    "        \n",
    "    def forward(self, x: Tensor) -> Tensor:\n",
    "        orig = x\n",
    "        lens_output = self.lens(x)\n",
    "        x = lens_output + orig\n",
    "        x = self.res(x)\n",
    "        return lens_output, x"
   ]
  },
  {
   "cell_type": "code",
   "execution_count": 79,
   "id": "da1a82d4",
   "metadata": {},
   "outputs": [],
   "source": [
    "criterion = nn.CrossEntropyLoss()"
   ]
  },
  {
   "cell_type": "code",
   "execution_count": 80,
   "id": "d26b71ca",
   "metadata": {},
   "outputs": [
    {
     "name": "stdout",
     "output_type": "stream",
     "text": [
      "[0, batch 50] ssl_loss: 1.658 lens_loss: 6577.770\n",
      "[0, batch 100] ssl_loss: 1.645 lens_loss: 3412.790\n",
      "[0, batch 150] ssl_loss: 1.653 lens_loss: 2356.651\n",
      "[0, batch 200] ssl_loss: 1.654 lens_loss: 1829.688\n",
      "[0, batch 250] ssl_loss: 1.655 lens_loss: 1513.937\n",
      "[0, batch 300] ssl_loss: 1.652 lens_loss: 1302.227\n",
      "[0, batch 350] ssl_loss: 1.650 lens_loss: 1151.991\n",
      "[0, batch 400] ssl_loss: 1.647 lens_loss: 1038.695\n",
      "[0, batch 450] ssl_loss: 1.649 lens_loss: 950.621\n",
      "[0, batch 500] ssl_loss: 1.652 lens_loss: 880.650\n",
      "[0, batch 550] ssl_loss: 1.652 lens_loss: 822.792\n",
      "[0, batch 600] ssl_loss: 1.654 lens_loss: 774.275\n"
     ]
    },
    {
     "ename": "KeyboardInterrupt",
     "evalue": "",
     "output_type": "error",
     "traceback": [
      "\u001b[0;31m---------------------------------------------------------------------------\u001b[0m",
      "\u001b[0;31mKeyboardInterrupt\u001b[0m                         Traceback (most recent call last)",
      "\u001b[0;32m/tmp/ipykernel_1431/1522007430.py\u001b[0m in \u001b[0;36m<module>\u001b[0;34m\u001b[0m\n\u001b[1;32m      6\u001b[0m         \u001b[0mlens_output\u001b[0m \u001b[0;34m=\u001b[0m \u001b[0mmodel1\u001b[0m\u001b[0;34m(\u001b[0m\u001b[0minputs\u001b[0m\u001b[0;34m)\u001b[0m\u001b[0;34m\u001b[0m\u001b[0;34m\u001b[0m\u001b[0m\n\u001b[1;32m      7\u001b[0m         \u001b[0mx\u001b[0m \u001b[0;34m=\u001b[0m \u001b[0mtorch\u001b[0m\u001b[0;34m.\u001b[0m\u001b[0madd\u001b[0m\u001b[0;34m(\u001b[0m\u001b[0mlens_output\u001b[0m\u001b[0;34m,\u001b[0m \u001b[0minputs\u001b[0m\u001b[0;34m)\u001b[0m\u001b[0;34m\u001b[0m\u001b[0;34m\u001b[0m\u001b[0m\n\u001b[0;32m----> 8\u001b[0;31m         \u001b[0moutputs\u001b[0m \u001b[0;34m=\u001b[0m \u001b[0mmodel2\u001b[0m\u001b[0;34m(\u001b[0m\u001b[0mx\u001b[0m\u001b[0;34m)\u001b[0m\u001b[0;34m\u001b[0m\u001b[0;34m\u001b[0m\u001b[0m\n\u001b[0m\u001b[1;32m      9\u001b[0m         \u001b[0;31m#Calculate separate loss\u001b[0m\u001b[0;34m\u001b[0m\u001b[0;34m\u001b[0m\u001b[0;34m\u001b[0m\u001b[0m\n\u001b[1;32m     10\u001b[0m         \u001b[0mssl_loss\u001b[0m \u001b[0;34m=\u001b[0m \u001b[0mcriterion\u001b[0m\u001b[0;34m(\u001b[0m\u001b[0moutputs\u001b[0m\u001b[0;34m,\u001b[0m \u001b[0mlabels\u001b[0m\u001b[0;34m)\u001b[0m\u001b[0;34m\u001b[0m\u001b[0;34m\u001b[0m\u001b[0m\n",
      "\u001b[0;32m~/miniconda3/envs/pytorch/lib/python3.7/site-packages/torch/nn/modules/module.py\u001b[0m in \u001b[0;36m_call_impl\u001b[0;34m(self, *input, **kwargs)\u001b[0m\n\u001b[1;32m   1108\u001b[0m         if not (self._backward_hooks or self._forward_hooks or self._forward_pre_hooks or _global_backward_hooks\n\u001b[1;32m   1109\u001b[0m                 or _global_forward_hooks or _global_forward_pre_hooks):\n\u001b[0;32m-> 1110\u001b[0;31m             \u001b[0;32mreturn\u001b[0m \u001b[0mforward_call\u001b[0m\u001b[0;34m(\u001b[0m\u001b[0;34m*\u001b[0m\u001b[0minput\u001b[0m\u001b[0;34m,\u001b[0m \u001b[0;34m**\u001b[0m\u001b[0mkwargs\u001b[0m\u001b[0;34m)\u001b[0m\u001b[0;34m\u001b[0m\u001b[0;34m\u001b[0m\u001b[0m\n\u001b[0m\u001b[1;32m   1111\u001b[0m         \u001b[0;31m# Do not call functions when jit is used\u001b[0m\u001b[0;34m\u001b[0m\u001b[0;34m\u001b[0m\u001b[0;34m\u001b[0m\u001b[0m\n\u001b[1;32m   1112\u001b[0m         \u001b[0mfull_backward_hooks\u001b[0m\u001b[0;34m,\u001b[0m \u001b[0mnon_full_backward_hooks\u001b[0m \u001b[0;34m=\u001b[0m \u001b[0;34m[\u001b[0m\u001b[0;34m]\u001b[0m\u001b[0;34m,\u001b[0m \u001b[0;34m[\u001b[0m\u001b[0;34m]\u001b[0m\u001b[0;34m\u001b[0m\u001b[0;34m\u001b[0m\u001b[0m\n",
      "\u001b[0;32m/tmp/ipykernel_1431/1238506624.py\u001b[0m in \u001b[0;36mforward\u001b[0;34m(self, x)\u001b[0m\n\u001b[1;32m      7\u001b[0m         \u001b[0mself\u001b[0m\u001b[0;34m.\u001b[0m\u001b[0mres\u001b[0m \u001b[0;34m=\u001b[0m \u001b[0mres\u001b[0m\u001b[0;34m\u001b[0m\u001b[0;34m\u001b[0m\u001b[0m\n\u001b[1;32m      8\u001b[0m     \u001b[0;32mdef\u001b[0m \u001b[0mforward\u001b[0m\u001b[0;34m(\u001b[0m\u001b[0mself\u001b[0m\u001b[0;34m,\u001b[0m \u001b[0mx\u001b[0m\u001b[0;34m:\u001b[0m \u001b[0mTensor\u001b[0m\u001b[0;34m)\u001b[0m \u001b[0;34m->\u001b[0m \u001b[0mTensor\u001b[0m\u001b[0;34m:\u001b[0m\u001b[0;34m\u001b[0m\u001b[0;34m\u001b[0m\u001b[0m\n\u001b[0;32m----> 9\u001b[0;31m         \u001b[0mx\u001b[0m \u001b[0;34m=\u001b[0m \u001b[0mself\u001b[0m\u001b[0;34m.\u001b[0m\u001b[0mres\u001b[0m\u001b[0;34m(\u001b[0m\u001b[0mx\u001b[0m\u001b[0;34m)\u001b[0m\u001b[0;34m\u001b[0m\u001b[0;34m\u001b[0m\u001b[0m\n\u001b[0m\u001b[1;32m     10\u001b[0m         \u001b[0;32mreturn\u001b[0m \u001b[0mx\u001b[0m\u001b[0;34m\u001b[0m\u001b[0;34m\u001b[0m\u001b[0m\n",
      "\u001b[0;32m~/miniconda3/envs/pytorch/lib/python3.7/site-packages/torch/nn/modules/module.py\u001b[0m in \u001b[0;36m_call_impl\u001b[0;34m(self, *input, **kwargs)\u001b[0m\n\u001b[1;32m   1108\u001b[0m         if not (self._backward_hooks or self._forward_hooks or self._forward_pre_hooks or _global_backward_hooks\n\u001b[1;32m   1109\u001b[0m                 or _global_forward_hooks or _global_forward_pre_hooks):\n\u001b[0;32m-> 1110\u001b[0;31m             \u001b[0;32mreturn\u001b[0m \u001b[0mforward_call\u001b[0m\u001b[0;34m(\u001b[0m\u001b[0;34m*\u001b[0m\u001b[0minput\u001b[0m\u001b[0;34m,\u001b[0m \u001b[0;34m**\u001b[0m\u001b[0mkwargs\u001b[0m\u001b[0;34m)\u001b[0m\u001b[0;34m\u001b[0m\u001b[0;34m\u001b[0m\u001b[0m\n\u001b[0m\u001b[1;32m   1111\u001b[0m         \u001b[0;31m# Do not call functions when jit is used\u001b[0m\u001b[0;34m\u001b[0m\u001b[0;34m\u001b[0m\u001b[0;34m\u001b[0m\u001b[0m\n\u001b[1;32m   1112\u001b[0m         \u001b[0mfull_backward_hooks\u001b[0m\u001b[0;34m,\u001b[0m \u001b[0mnon_full_backward_hooks\u001b[0m \u001b[0;34m=\u001b[0m \u001b[0;34m[\u001b[0m\u001b[0;34m]\u001b[0m\u001b[0;34m,\u001b[0m \u001b[0;34m[\u001b[0m\u001b[0;34m]\u001b[0m\u001b[0;34m\u001b[0m\u001b[0;34m\u001b[0m\u001b[0m\n",
      "\u001b[0;32m~/miniconda3/envs/pytorch/lib/python3.7/site-packages/torchvision/models/resnet.py\u001b[0m in \u001b[0;36mforward\u001b[0;34m(self, x)\u001b[0m\n\u001b[1;32m    281\u001b[0m \u001b[0;34m\u001b[0m\u001b[0m\n\u001b[1;32m    282\u001b[0m     \u001b[0;32mdef\u001b[0m \u001b[0mforward\u001b[0m\u001b[0;34m(\u001b[0m\u001b[0mself\u001b[0m\u001b[0;34m,\u001b[0m \u001b[0mx\u001b[0m\u001b[0;34m:\u001b[0m \u001b[0mTensor\u001b[0m\u001b[0;34m)\u001b[0m \u001b[0;34m->\u001b[0m \u001b[0mTensor\u001b[0m\u001b[0;34m:\u001b[0m\u001b[0;34m\u001b[0m\u001b[0;34m\u001b[0m\u001b[0m\n\u001b[0;32m--> 283\u001b[0;31m         \u001b[0;32mreturn\u001b[0m \u001b[0mself\u001b[0m\u001b[0;34m.\u001b[0m\u001b[0m_forward_impl\u001b[0m\u001b[0;34m(\u001b[0m\u001b[0mx\u001b[0m\u001b[0;34m)\u001b[0m\u001b[0;34m\u001b[0m\u001b[0;34m\u001b[0m\u001b[0m\n\u001b[0m\u001b[1;32m    284\u001b[0m \u001b[0;34m\u001b[0m\u001b[0m\n\u001b[1;32m    285\u001b[0m \u001b[0;34m\u001b[0m\u001b[0m\n",
      "\u001b[0;32m~/miniconda3/envs/pytorch/lib/python3.7/site-packages/torchvision/models/resnet.py\u001b[0m in \u001b[0;36m_forward_impl\u001b[0;34m(self, x)\u001b[0m\n\u001b[1;32m    269\u001b[0m         \u001b[0mx\u001b[0m \u001b[0;34m=\u001b[0m \u001b[0mself\u001b[0m\u001b[0;34m.\u001b[0m\u001b[0mmaxpool\u001b[0m\u001b[0;34m(\u001b[0m\u001b[0mx\u001b[0m\u001b[0;34m)\u001b[0m\u001b[0;34m\u001b[0m\u001b[0;34m\u001b[0m\u001b[0m\n\u001b[1;32m    270\u001b[0m \u001b[0;34m\u001b[0m\u001b[0m\n\u001b[0;32m--> 271\u001b[0;31m         \u001b[0mx\u001b[0m \u001b[0;34m=\u001b[0m \u001b[0mself\u001b[0m\u001b[0;34m.\u001b[0m\u001b[0mlayer1\u001b[0m\u001b[0;34m(\u001b[0m\u001b[0mx\u001b[0m\u001b[0;34m)\u001b[0m\u001b[0;34m\u001b[0m\u001b[0;34m\u001b[0m\u001b[0m\n\u001b[0m\u001b[1;32m    272\u001b[0m         \u001b[0mx\u001b[0m \u001b[0;34m=\u001b[0m \u001b[0mself\u001b[0m\u001b[0;34m.\u001b[0m\u001b[0mlayer2\u001b[0m\u001b[0;34m(\u001b[0m\u001b[0mx\u001b[0m\u001b[0;34m)\u001b[0m\u001b[0;34m\u001b[0m\u001b[0;34m\u001b[0m\u001b[0m\n\u001b[1;32m    273\u001b[0m         \u001b[0mx\u001b[0m \u001b[0;34m=\u001b[0m \u001b[0mself\u001b[0m\u001b[0;34m.\u001b[0m\u001b[0mlayer3\u001b[0m\u001b[0;34m(\u001b[0m\u001b[0mx\u001b[0m\u001b[0;34m)\u001b[0m\u001b[0;34m\u001b[0m\u001b[0;34m\u001b[0m\u001b[0m\n",
      "\u001b[0;32m~/miniconda3/envs/pytorch/lib/python3.7/site-packages/torch/nn/modules/module.py\u001b[0m in \u001b[0;36m_call_impl\u001b[0;34m(self, *input, **kwargs)\u001b[0m\n\u001b[1;32m   1108\u001b[0m         if not (self._backward_hooks or self._forward_hooks or self._forward_pre_hooks or _global_backward_hooks\n\u001b[1;32m   1109\u001b[0m                 or _global_forward_hooks or _global_forward_pre_hooks):\n\u001b[0;32m-> 1110\u001b[0;31m             \u001b[0;32mreturn\u001b[0m \u001b[0mforward_call\u001b[0m\u001b[0;34m(\u001b[0m\u001b[0;34m*\u001b[0m\u001b[0minput\u001b[0m\u001b[0;34m,\u001b[0m \u001b[0;34m**\u001b[0m\u001b[0mkwargs\u001b[0m\u001b[0;34m)\u001b[0m\u001b[0;34m\u001b[0m\u001b[0;34m\u001b[0m\u001b[0m\n\u001b[0m\u001b[1;32m   1111\u001b[0m         \u001b[0;31m# Do not call functions when jit is used\u001b[0m\u001b[0;34m\u001b[0m\u001b[0;34m\u001b[0m\u001b[0;34m\u001b[0m\u001b[0m\n\u001b[1;32m   1112\u001b[0m         \u001b[0mfull_backward_hooks\u001b[0m\u001b[0;34m,\u001b[0m \u001b[0mnon_full_backward_hooks\u001b[0m \u001b[0;34m=\u001b[0m \u001b[0;34m[\u001b[0m\u001b[0;34m]\u001b[0m\u001b[0;34m,\u001b[0m \u001b[0;34m[\u001b[0m\u001b[0;34m]\u001b[0m\u001b[0;34m\u001b[0m\u001b[0;34m\u001b[0m\u001b[0m\n",
      "\u001b[0;32m~/miniconda3/envs/pytorch/lib/python3.7/site-packages/torch/nn/modules/container.py\u001b[0m in \u001b[0;36mforward\u001b[0;34m(self, input)\u001b[0m\n\u001b[1;32m    139\u001b[0m     \u001b[0;32mdef\u001b[0m \u001b[0mforward\u001b[0m\u001b[0;34m(\u001b[0m\u001b[0mself\u001b[0m\u001b[0;34m,\u001b[0m \u001b[0minput\u001b[0m\u001b[0;34m)\u001b[0m\u001b[0;34m:\u001b[0m\u001b[0;34m\u001b[0m\u001b[0;34m\u001b[0m\u001b[0m\n\u001b[1;32m    140\u001b[0m         \u001b[0;32mfor\u001b[0m \u001b[0mmodule\u001b[0m \u001b[0;32min\u001b[0m \u001b[0mself\u001b[0m\u001b[0;34m:\u001b[0m\u001b[0;34m\u001b[0m\u001b[0;34m\u001b[0m\u001b[0m\n\u001b[0;32m--> 141\u001b[0;31m             \u001b[0minput\u001b[0m \u001b[0;34m=\u001b[0m \u001b[0mmodule\u001b[0m\u001b[0;34m(\u001b[0m\u001b[0minput\u001b[0m\u001b[0;34m)\u001b[0m\u001b[0;34m\u001b[0m\u001b[0;34m\u001b[0m\u001b[0m\n\u001b[0m\u001b[1;32m    142\u001b[0m         \u001b[0;32mreturn\u001b[0m \u001b[0minput\u001b[0m\u001b[0;34m\u001b[0m\u001b[0;34m\u001b[0m\u001b[0m\n\u001b[1;32m    143\u001b[0m \u001b[0;34m\u001b[0m\u001b[0m\n",
      "\u001b[0;32m~/miniconda3/envs/pytorch/lib/python3.7/site-packages/torch/nn/modules/module.py\u001b[0m in \u001b[0;36m_call_impl\u001b[0;34m(self, *input, **kwargs)\u001b[0m\n\u001b[1;32m   1108\u001b[0m         if not (self._backward_hooks or self._forward_hooks or self._forward_pre_hooks or _global_backward_hooks\n\u001b[1;32m   1109\u001b[0m                 or _global_forward_hooks or _global_forward_pre_hooks):\n\u001b[0;32m-> 1110\u001b[0;31m             \u001b[0;32mreturn\u001b[0m \u001b[0mforward_call\u001b[0m\u001b[0;34m(\u001b[0m\u001b[0;34m*\u001b[0m\u001b[0minput\u001b[0m\u001b[0;34m,\u001b[0m \u001b[0;34m**\u001b[0m\u001b[0mkwargs\u001b[0m\u001b[0;34m)\u001b[0m\u001b[0;34m\u001b[0m\u001b[0;34m\u001b[0m\u001b[0m\n\u001b[0m\u001b[1;32m   1111\u001b[0m         \u001b[0;31m# Do not call functions when jit is used\u001b[0m\u001b[0;34m\u001b[0m\u001b[0;34m\u001b[0m\u001b[0;34m\u001b[0m\u001b[0m\n\u001b[1;32m   1112\u001b[0m         \u001b[0mfull_backward_hooks\u001b[0m\u001b[0;34m,\u001b[0m \u001b[0mnon_full_backward_hooks\u001b[0m \u001b[0;34m=\u001b[0m \u001b[0;34m[\u001b[0m\u001b[0;34m]\u001b[0m\u001b[0;34m,\u001b[0m \u001b[0;34m[\u001b[0m\u001b[0;34m]\u001b[0m\u001b[0;34m\u001b[0m\u001b[0;34m\u001b[0m\u001b[0m\n",
      "\u001b[0;32m~/miniconda3/envs/pytorch/lib/python3.7/site-packages/torchvision/models/resnet.py\u001b[0m in \u001b[0;36mforward\u001b[0;34m(self, x)\u001b[0m\n\u001b[1;32m    154\u001b[0m \u001b[0;34m\u001b[0m\u001b[0m\n\u001b[1;32m    155\u001b[0m         \u001b[0;32mif\u001b[0m \u001b[0mself\u001b[0m\u001b[0;34m.\u001b[0m\u001b[0mdownsample\u001b[0m \u001b[0;32mis\u001b[0m \u001b[0;32mnot\u001b[0m \u001b[0;32mNone\u001b[0m\u001b[0;34m:\u001b[0m\u001b[0;34m\u001b[0m\u001b[0;34m\u001b[0m\u001b[0m\n\u001b[0;32m--> 156\u001b[0;31m             \u001b[0midentity\u001b[0m \u001b[0;34m=\u001b[0m \u001b[0mself\u001b[0m\u001b[0;34m.\u001b[0m\u001b[0mdownsample\u001b[0m\u001b[0;34m(\u001b[0m\u001b[0mx\u001b[0m\u001b[0;34m)\u001b[0m\u001b[0;34m\u001b[0m\u001b[0;34m\u001b[0m\u001b[0m\n\u001b[0m\u001b[1;32m    157\u001b[0m \u001b[0;34m\u001b[0m\u001b[0m\n\u001b[1;32m    158\u001b[0m         \u001b[0mout\u001b[0m \u001b[0;34m+=\u001b[0m \u001b[0midentity\u001b[0m\u001b[0;34m\u001b[0m\u001b[0;34m\u001b[0m\u001b[0m\n",
      "\u001b[0;32m~/miniconda3/envs/pytorch/lib/python3.7/site-packages/torch/nn/modules/module.py\u001b[0m in \u001b[0;36m_call_impl\u001b[0;34m(self, *input, **kwargs)\u001b[0m\n\u001b[1;32m   1108\u001b[0m         if not (self._backward_hooks or self._forward_hooks or self._forward_pre_hooks or _global_backward_hooks\n\u001b[1;32m   1109\u001b[0m                 or _global_forward_hooks or _global_forward_pre_hooks):\n\u001b[0;32m-> 1110\u001b[0;31m             \u001b[0;32mreturn\u001b[0m \u001b[0mforward_call\u001b[0m\u001b[0;34m(\u001b[0m\u001b[0;34m*\u001b[0m\u001b[0minput\u001b[0m\u001b[0;34m,\u001b[0m \u001b[0;34m**\u001b[0m\u001b[0mkwargs\u001b[0m\u001b[0;34m)\u001b[0m\u001b[0;34m\u001b[0m\u001b[0;34m\u001b[0m\u001b[0m\n\u001b[0m\u001b[1;32m   1111\u001b[0m         \u001b[0;31m# Do not call functions when jit is used\u001b[0m\u001b[0;34m\u001b[0m\u001b[0;34m\u001b[0m\u001b[0;34m\u001b[0m\u001b[0m\n\u001b[1;32m   1112\u001b[0m         \u001b[0mfull_backward_hooks\u001b[0m\u001b[0;34m,\u001b[0m \u001b[0mnon_full_backward_hooks\u001b[0m \u001b[0;34m=\u001b[0m \u001b[0;34m[\u001b[0m\u001b[0;34m]\u001b[0m\u001b[0;34m,\u001b[0m \u001b[0;34m[\u001b[0m\u001b[0;34m]\u001b[0m\u001b[0;34m\u001b[0m\u001b[0;34m\u001b[0m\u001b[0m\n",
      "\u001b[0;32m~/miniconda3/envs/pytorch/lib/python3.7/site-packages/torch/nn/modules/container.py\u001b[0m in \u001b[0;36mforward\u001b[0;34m(self, input)\u001b[0m\n\u001b[1;32m    139\u001b[0m     \u001b[0;32mdef\u001b[0m \u001b[0mforward\u001b[0m\u001b[0;34m(\u001b[0m\u001b[0mself\u001b[0m\u001b[0;34m,\u001b[0m \u001b[0minput\u001b[0m\u001b[0;34m)\u001b[0m\u001b[0;34m:\u001b[0m\u001b[0;34m\u001b[0m\u001b[0;34m\u001b[0m\u001b[0m\n\u001b[1;32m    140\u001b[0m         \u001b[0;32mfor\u001b[0m \u001b[0mmodule\u001b[0m \u001b[0;32min\u001b[0m \u001b[0mself\u001b[0m\u001b[0;34m:\u001b[0m\u001b[0;34m\u001b[0m\u001b[0;34m\u001b[0m\u001b[0m\n\u001b[0;32m--> 141\u001b[0;31m             \u001b[0minput\u001b[0m \u001b[0;34m=\u001b[0m \u001b[0mmodule\u001b[0m\u001b[0;34m(\u001b[0m\u001b[0minput\u001b[0m\u001b[0;34m)\u001b[0m\u001b[0;34m\u001b[0m\u001b[0;34m\u001b[0m\u001b[0m\n\u001b[0m\u001b[1;32m    142\u001b[0m         \u001b[0;32mreturn\u001b[0m \u001b[0minput\u001b[0m\u001b[0;34m\u001b[0m\u001b[0;34m\u001b[0m\u001b[0m\n\u001b[1;32m    143\u001b[0m \u001b[0;34m\u001b[0m\u001b[0m\n",
      "\u001b[0;32m~/miniconda3/envs/pytorch/lib/python3.7/site-packages/torch/nn/modules/module.py\u001b[0m in \u001b[0;36m_call_impl\u001b[0;34m(self, *input, **kwargs)\u001b[0m\n\u001b[1;32m   1108\u001b[0m         if not (self._backward_hooks or self._forward_hooks or self._forward_pre_hooks or _global_backward_hooks\n\u001b[1;32m   1109\u001b[0m                 or _global_forward_hooks or _global_forward_pre_hooks):\n\u001b[0;32m-> 1110\u001b[0;31m             \u001b[0;32mreturn\u001b[0m \u001b[0mforward_call\u001b[0m\u001b[0;34m(\u001b[0m\u001b[0;34m*\u001b[0m\u001b[0minput\u001b[0m\u001b[0;34m,\u001b[0m \u001b[0;34m**\u001b[0m\u001b[0mkwargs\u001b[0m\u001b[0;34m)\u001b[0m\u001b[0;34m\u001b[0m\u001b[0;34m\u001b[0m\u001b[0m\n\u001b[0m\u001b[1;32m   1111\u001b[0m         \u001b[0;31m# Do not call functions when jit is used\u001b[0m\u001b[0;34m\u001b[0m\u001b[0;34m\u001b[0m\u001b[0;34m\u001b[0m\u001b[0m\n\u001b[1;32m   1112\u001b[0m         \u001b[0mfull_backward_hooks\u001b[0m\u001b[0;34m,\u001b[0m \u001b[0mnon_full_backward_hooks\u001b[0m \u001b[0;34m=\u001b[0m \u001b[0;34m[\u001b[0m\u001b[0;34m]\u001b[0m\u001b[0;34m,\u001b[0m \u001b[0;34m[\u001b[0m\u001b[0;34m]\u001b[0m\u001b[0;34m\u001b[0m\u001b[0;34m\u001b[0m\u001b[0m\n",
      "\u001b[0;32m~/miniconda3/envs/pytorch/lib/python3.7/site-packages/torch/nn/modules/batchnorm.py\u001b[0m in \u001b[0;36mforward\u001b[0;34m(self, input)\u001b[0m\n\u001b[1;32m    177\u001b[0m             \u001b[0mbn_training\u001b[0m\u001b[0;34m,\u001b[0m\u001b[0;34m\u001b[0m\u001b[0;34m\u001b[0m\u001b[0m\n\u001b[1;32m    178\u001b[0m             \u001b[0mexponential_average_factor\u001b[0m\u001b[0;34m,\u001b[0m\u001b[0;34m\u001b[0m\u001b[0;34m\u001b[0m\u001b[0m\n\u001b[0;32m--> 179\u001b[0;31m             \u001b[0mself\u001b[0m\u001b[0;34m.\u001b[0m\u001b[0meps\u001b[0m\u001b[0;34m,\u001b[0m\u001b[0;34m\u001b[0m\u001b[0;34m\u001b[0m\u001b[0m\n\u001b[0m\u001b[1;32m    180\u001b[0m         )\n\u001b[1;32m    181\u001b[0m \u001b[0;34m\u001b[0m\u001b[0m\n",
      "\u001b[0;32m~/miniconda3/envs/pytorch/lib/python3.7/site-packages/torch/nn/functional.py\u001b[0m in \u001b[0;36mbatch_norm\u001b[0;34m(input, running_mean, running_var, weight, bias, training, momentum, eps)\u001b[0m\n\u001b[1;32m   2420\u001b[0m \u001b[0;34m\u001b[0m\u001b[0m\n\u001b[1;32m   2421\u001b[0m     return torch.batch_norm(\n\u001b[0;32m-> 2422\u001b[0;31m         \u001b[0minput\u001b[0m\u001b[0;34m,\u001b[0m \u001b[0mweight\u001b[0m\u001b[0;34m,\u001b[0m \u001b[0mbias\u001b[0m\u001b[0;34m,\u001b[0m \u001b[0mrunning_mean\u001b[0m\u001b[0;34m,\u001b[0m \u001b[0mrunning_var\u001b[0m\u001b[0;34m,\u001b[0m \u001b[0mtraining\u001b[0m\u001b[0;34m,\u001b[0m \u001b[0mmomentum\u001b[0m\u001b[0;34m,\u001b[0m \u001b[0meps\u001b[0m\u001b[0;34m,\u001b[0m \u001b[0mtorch\u001b[0m\u001b[0;34m.\u001b[0m\u001b[0mbackends\u001b[0m\u001b[0;34m.\u001b[0m\u001b[0mcudnn\u001b[0m\u001b[0;34m.\u001b[0m\u001b[0menabled\u001b[0m\u001b[0;34m\u001b[0m\u001b[0;34m\u001b[0m\u001b[0m\n\u001b[0m\u001b[1;32m   2423\u001b[0m     )\n\u001b[1;32m   2424\u001b[0m \u001b[0;34m\u001b[0m\u001b[0m\n",
      "\u001b[0;31mKeyboardInterrupt\u001b[0m: "
     ]
    }
   ],
   "source": [
    "for epoch in range(10):\n",
    "    ssl_losses = 0.0\n",
    "    lens_losses = 0.0\n",
    "    for i, data in enumerate(trainloader):\n",
    "        inputs, labels = data\n",
    "        lens_output = model1(inputs)\n",
    "        x = torch.add(lens_output, inputs)\n",
    "        outputs = model2(x)\n",
    "        #Calculate separate loss\n",
    "        ssl_loss = criterion(outputs, labels)\n",
    "        l_loss = lens_loss(ssl_loss, inputs, lens_output, lambda_term = 0.01)\n",
    "        loss = ssl_loss + l_loss\n",
    "        loss.backward()\n",
    "        \n",
    "        #Update weights\n",
    "        optim1.step()\n",
    "        optim1.zero_grad()\n",
    "        optim2.step()\n",
    "        optim2.zero_grad()\n",
    "        ssl_losses += ssl_loss.item()\n",
    "        lens_losses += l_loss.item()\n",
    "        if i>0 and i % 50 == 0:    # print every 2000 mini-batches\n",
    "            print(f'[{epoch}, batch {i}] ssl_loss: {ssl_losses / i:.3f} lens_loss: {lens_losses / i:.3f}')\n",
    "            running_loss = 0.0\n",
    "\n",
    "print('Finished Training')"
   ]
  },
  {
   "cell_type": "code",
   "execution_count": null,
   "id": "69c3e617",
   "metadata": {},
   "outputs": [],
   "source": []
  },
  {
   "cell_type": "code",
   "execution_count": null,
   "id": "fd93f350",
   "metadata": {},
   "outputs": [],
   "source": []
  },
  {
   "cell_type": "code",
   "execution_count": null,
   "id": "d1b8711a",
   "metadata": {},
   "outputs": [],
   "source": []
  },
  {
   "cell_type": "markdown",
   "id": "d7dfe80b",
   "metadata": {},
   "source": [
    "### Coding for the color aberration"
   ]
  },
  {
   "cell_type": "code",
   "execution_count": null,
   "id": "99ed0aea",
   "metadata": {},
   "outputs": [],
   "source": [
    "img_zeros = np.zeros((3,32,32))"
   ]
  },
  {
   "cell_type": "code",
   "execution_count": null,
   "id": "8e25c5df",
   "metadata": {},
   "outputs": [],
   "source": [
    "img_zeros[2,:,:] = img[2,:,:]\n",
    "img_zeros[0,:,:] = img[0,:,:]"
   ]
  },
  {
   "cell_type": "code",
   "execution_count": null,
   "id": "83965fd8",
   "metadata": {},
   "outputs": [],
   "source": [
    "move = 1"
   ]
  },
  {
   "cell_type": "code",
   "execution_count": null,
   "id": "5f540a72",
   "metadata": {},
   "outputs": [],
   "source": [
    "img_zeros[1,:,move:32] = img[1,:,0:32-move]\n",
    "img_zeros[1,:,0:move] = img[1,:,32-move:32] #Shifting up"
   ]
  },
  {
   "cell_type": "code",
   "execution_count": null,
   "id": "a7d9e1a2",
   "metadata": {},
   "outputs": [],
   "source": [
    "img_zeros.shape"
   ]
  },
  {
   "cell_type": "code",
   "execution_count": null,
   "id": "c06fca86",
   "metadata": {},
   "outputs": [],
   "source": [
    "img_zeros = img_zeros/2 + 0.5\n",
    "plt.imshow(np.transpose(img_zeros, (1, 2, 0)))\n",
    "plt.show()"
   ]
  },
  {
   "cell_type": "code",
   "execution_count": null,
   "id": "91e6c85e",
   "metadata": {},
   "outputs": [],
   "source": [
    "imshow(img)"
   ]
  },
  {
   "cell_type": "code",
   "execution_count": null,
   "id": "0ae59060",
   "metadata": {},
   "outputs": [],
   "source": []
  }
 ],
 "metadata": {
  "kernelspec": {
   "display_name": "Python 3 (ipykernel)",
   "language": "python",
   "name": "python3"
  },
  "language_info": {
   "codemirror_mode": {
    "name": "ipython",
    "version": 3
   },
   "file_extension": ".py",
   "mimetype": "text/x-python",
   "name": "python",
   "nbconvert_exporter": "python",
   "pygments_lexer": "ipython3",
   "version": "3.7.11"
  }
 },
 "nbformat": 4,
 "nbformat_minor": 5
}
