{
 "cells": [
  {
   "cell_type": "code",
   "execution_count": 2,
   "id": "2baa69cd",
   "metadata": {},
   "outputs": [],
   "source": [
    "from pathlib import Path\n",
    "import torch\n",
    "import torchvision\n",
    "import matplotlib.pyplot as plt\n",
    "import torchvision.transforms as transforms\n",
    "import numpy as np\n",
    "import torchvision.transforms.functional as TF\n",
    "from torch.utils.data import Dataset, DataLoader\n",
    "from tqdm import tqdm"
   ]
  },
  {
   "cell_type": "code",
   "execution_count": 3,
   "id": "259a31e2",
   "metadata": {},
   "outputs": [],
   "source": [
    "path = Path('.')"
   ]
  },
  {
   "cell_type": "code",
   "execution_count": 4,
   "id": "4fefb371",
   "metadata": {},
   "outputs": [],
   "source": [
    "transform = transforms.Compose(\n",
    "    [transforms.ToTensor(),\n",
    "     transforms.Normalize((0.5, 0.5, 0.5), (0.5, 0.5, 0.5))])"
   ]
  },
  {
   "cell_type": "code",
   "execution_count": 5,
   "id": "85545af1",
   "metadata": {},
   "outputs": [
    {
     "name": "stdout",
     "output_type": "stream",
     "text": [
      "Files already downloaded and verified\n"
     ]
    }
   ],
   "source": [
    "#Get the CIFAR dataset in\n",
    "data = torchvision.datasets.CIFAR10(root = path/'data', download = True, transform=transform)"
   ]
  },
  {
   "cell_type": "code",
   "execution_count": 6,
   "id": "09e935d5",
   "metadata": {},
   "outputs": [
    {
     "data": {
      "text/plain": [
       "50000"
      ]
     },
     "execution_count": 6,
     "metadata": {},
     "output_type": "execute_result"
    }
   ],
   "source": [
    "len(data)"
   ]
  },
  {
   "cell_type": "code",
   "execution_count": 7,
   "id": "8ec251da",
   "metadata": {},
   "outputs": [],
   "source": [
    "#Sample one image\n",
    "img, label = data.__getitem__(0)"
   ]
  },
  {
   "cell_type": "code",
   "execution_count": 8,
   "id": "9735f963",
   "metadata": {},
   "outputs": [
    {
     "data": {
      "text/plain": [
       "torch.Tensor"
      ]
     },
     "execution_count": 8,
     "metadata": {},
     "output_type": "execute_result"
    }
   ],
   "source": [
    "type(img)"
   ]
  },
  {
   "cell_type": "code",
   "execution_count": 9,
   "id": "cbe9140f",
   "metadata": {},
   "outputs": [],
   "source": [
    "def imshow(img):\n",
    "    img = img/2 + 0.5\n",
    "    img_np = img.numpy()\n",
    "    plt.imshow(np.transpose(img_np, (1, 2, 0)))\n",
    "    plt.show()"
   ]
  },
  {
   "cell_type": "code",
   "execution_count": 10,
   "id": "cbd7a7c4",
   "metadata": {},
   "outputs": [],
   "source": [
    "classes = ('plane', 'car', 'bird', 'cat',\n",
    "           'deer', 'dog', 'frog', 'horse', 'ship', 'truck')"
   ]
  },
  {
   "cell_type": "code",
   "execution_count": 11,
   "id": "4462dbe6",
   "metadata": {},
   "outputs": [],
   "source": [
    "img = TF.rotate(img, -90)"
   ]
  },
  {
   "cell_type": "code",
   "execution_count": 12,
   "id": "9b6990ad",
   "metadata": {},
   "outputs": [
    {
     "data": {
      "text/plain": [
       "array([[[ 0.38823533,  0.41176474,  0.6313726 , ..., -0.8039216 ,\n",
       "         -0.8745098 , -0.5372549 ],\n",
       "        [ 0.3176471 ,  0.35686278,  0.5764706 , ..., -0.8745098 ,\n",
       "         -1.        , -0.6627451 ],\n",
       "        [ 0.4039216 ,  0.45882356,  0.5529412 , ..., -0.6156863 ,\n",
       "         -0.85882354, -0.60784316],\n",
       "        ...,\n",
       "        [ 0.69411767,  0.4431373 ,  0.254902  , ..., -0.0745098 ,\n",
       "         -0.03529412,  0.23921573],\n",
       "        [ 0.18431377, -0.23921567, -0.56078434, ..., -0.05882353,\n",
       "         -0.06666666,  0.19215691],\n",
       "        [-0.03529412, -0.3490196 , -0.58431375, ..., -0.14509803,\n",
       "         -0.04313725,  0.16078436]],\n",
       "\n",
       "       [[ 0.12941182,  0.09019613,  0.33333337, ..., -0.8117647 ,\n",
       "         -0.84313726, -0.5137255 ],\n",
       "        [ 0.01176476, -0.03529412,  0.20000005, ..., -0.94509804,\n",
       "         -1.        , -0.6392157 ],\n",
       "        [ 0.11372554,  0.12941182,  0.26274514, ..., -0.7882353 ,\n",
       "         -0.9372549 , -0.62352943],\n",
       "        ...,\n",
       "        [ 0.4431373 ,  0.16078436,  0.04313731, ..., -0.34117645,\n",
       "         -0.3098039 ,  0.03529418],\n",
       "        [-0.0745098 , -0.5137255 , -0.75686276, ..., -0.34117645,\n",
       "         -0.3490196 , -0.01960784],\n",
       "        [-0.27843136, -0.58431375, -0.73333335, ..., -0.42745095,\n",
       "         -0.31764704, -0.02745098]],\n",
       "\n",
       "       [[-0.09019607, -0.24705881, -0.24705881, ..., -0.8352941 ,\n",
       "         -0.84313726, -0.5058824 ],\n",
       "        [-0.26274508, -0.67058825, -0.73333335, ..., -1.        ,\n",
       "         -1.        , -0.64705884],\n",
       "        [-0.31764704, -0.7647059 , -0.79607844, ..., -0.9372549 ,\n",
       "         -1.        , -0.6627451 ],\n",
       "        ...,\n",
       "        [ 0.09803927, -0.26274508, -0.45098037, ..., -0.60784316,\n",
       "         -0.5686275 , -0.15294117],\n",
       "        [-0.34117645, -0.73333335, -0.94509804, ..., -0.60784316,\n",
       "         -0.60784316, -0.19999999],\n",
       "        [-0.4352941 , -0.73333335, -0.84313726, ..., -0.67058825,\n",
       "         -0.5529412 , -0.19215685]]], dtype=float32)"
      ]
     },
     "execution_count": 12,
     "metadata": {},
     "output_type": "execute_result"
    }
   ],
   "source": [
    "#Gotta add an arrow to this numpy matrix\n",
    "img.numpy()"
   ]
  },
  {
   "cell_type": "code",
   "execution_count": 13,
   "id": "aadf44c7",
   "metadata": {},
   "outputs": [
    {
     "name": "stdout",
     "output_type": "stream",
     "text": [
      "frog\n"
     ]
    },
    {
     "data": {
      "image/png": "[encoded data removed]",
      "text/plain": [
       "<Figure size 432x288 with 1 Axes>"
      ]
     },
     "metadata": {
      "needs_background": "light"
     },
     "output_type": "display_data"
    }
   ],
   "source": [
    "print(classes[label])\n",
    "imshow(img)"
   ]
  },
  {
   "cell_type": "code",
   "execution_count": 14,
   "id": "6f7ac90d",
   "metadata": {},
   "outputs": [],
   "source": [
    "#Sample one image\n",
    "img, label = data.__getitem__(0)"
   ]
  },
  {
   "cell_type": "code",
   "execution_count": 15,
   "id": "6a18b125",
   "metadata": {},
   "outputs": [],
   "source": [
    "def add_arrow(img):\n",
    "    start = 2\n",
    "    for i in range(start,start+7):\n",
    "        img[:,i,start+6] = 0\n",
    "    for i in range(start+5,start+8):\n",
    "        img[:,start+1,i] = 0\n",
    "    for i in range(start+4,start+9):\n",
    "        img[:,start+2,i] = 0\n",
    "    return img"
   ]
  },
  {
   "cell_type": "code",
   "execution_count": 16,
   "id": "00dd2a75",
   "metadata": {},
   "outputs": [
    {
     "data": {
      "image/png": "[encoded data removed]",
      "text/plain": [
       "<Figure size 432x288 with 1 Axes>"
      ]
     },
     "metadata": {
      "needs_background": "light"
     },
     "output_type": "display_data"
    }
   ],
   "source": [
    "imshow(img)"
   ]
  },
  {
   "cell_type": "code",
   "execution_count": 98,
   "id": "87949306",
   "metadata": {},
   "outputs": [],
   "source": [
    "class arrowedCIFAR(Dataset):\n",
    "    \"\"\"Make CIFAR with arrow\"\"\"\n",
    "\n",
    "    def __init__(self):\n",
    "        transform = transforms.Compose(\n",
    "        [transforms.ToTensor(),\n",
    "         transforms.Normalize((0.5, 0.5, 0.5), (0.5, 0.5, 0.5))])\n",
    "        self.cifar = torchvision.datasets.CIFAR10(root = path/'data', download = True, transform=transform)\n",
    "        self.data = []\n",
    "        self.labels = []\n",
    "        for i in tqdm(range(len(self.cifar))):\n",
    "            self.data.append(add_arrow(self.cifar.__getitem__(i)[0])) #Only care about the rotation\n",
    "            self.labels.append(0)\n",
    "            for k, angle in enumerate([90, 180, 270]):\n",
    "                img = add_arrow(self.cifar.__getitem__(i)[0])\n",
    "                self.data.append(TF.rotate(img, angle))\n",
    "                self.labels.append(k+1) #Add the rest of labels\n",
    "    def __len__(self):\n",
    "        return len(self.labels)\n",
    "\n",
    "    def __getitem__(self, idx):\n",
    "        return self.data[idx], self.labels[idx]"
   ]
  },
  {
   "cell_type": "code",
   "execution_count": 99,
   "id": "71b1b575",
   "metadata": {},
   "outputs": [
    {
     "name": "stdout",
     "output_type": "stream",
     "text": [
      "Files already downloaded and verified\n"
     ]
    },
    {
     "name": "stderr",
     "output_type": "stream",
     "text": [
      "100%|███████████████████████████████████████████████████████████████████████████| 50000/50000 [01:55<00:00, 434.08it/s]\n"
     ]
    }
   ],
   "source": [
    "arrCIFAR = arrowedCIFAR()"
   ]
  },
  {
   "cell_type": "code",
   "execution_count": 110,
   "id": "6b00831a",
   "metadata": {},
   "outputs": [],
   "source": [
    "img, label = arrCIFAR.__getitem__(5)"
   ]
  },
  {
   "cell_type": "code",
   "execution_count": 111,
   "id": "ed56dd2d",
   "metadata": {},
   "outputs": [
    {
     "data": {
      "image/png": "[encoded data removed]",
      "text/plain": [
       "<Figure size 432x288 with 1 Axes>"
      ]
     },
     "metadata": {
      "needs_background": "light"
     },
     "output_type": "display_data"
    }
   ],
   "source": [
    "imshow(img)"
   ]
  },
  {
   "cell_type": "code",
   "execution_count": 17,
   "id": "42b67fb9",
   "metadata": {},
   "outputs": [],
   "source": [
    "#Sample one image\n",
    "img, label = data.__getitem__(0)"
   ]
  },
  {
   "cell_type": "code",
   "execution_count": 18,
   "id": "80567569",
   "metadata": {},
   "outputs": [
    {
     "data": {
      "text/plain": [
       "torch.Size([3, 32, 32])"
      ]
     },
     "execution_count": 18,
     "metadata": {},
     "output_type": "execute_result"
    }
   ],
   "source": [
    "img.shape"
   ]
  },
  {
   "cell_type": "code",
   "execution_count": 24,
   "id": "4e2f78e2",
   "metadata": {},
   "outputs": [],
   "source": [
    "temp = img[2,:,-1]"
   ]
  },
  {
   "cell_type": "code",
   "execution_count": 36,
   "id": "daac3e2e",
   "metadata": {},
   "outputs": [],
   "source": []
  },
  {
   "cell_type": "code",
   "execution_count": 70,
   "id": "99ed0aea",
   "metadata": {},
   "outputs": [],
   "source": [
    "img_zeros = np.zeros((3,32,32))"
   ]
  },
  {
   "cell_type": "code",
   "execution_count": 71,
   "id": "8e25c5df",
   "metadata": {},
   "outputs": [],
   "source": [
    "img_zeros[2,:,:] = img[2,:,:]\n",
    "img_zeros[0,:,:] = img[0,:,:]"
   ]
  },
  {
   "cell_type": "code",
   "execution_count": 72,
   "id": "83965fd8",
   "metadata": {},
   "outputs": [],
   "source": [
    "move = 1"
   ]
  },
  {
   "cell_type": "code",
   "execution_count": 73,
   "id": "5f540a72",
   "metadata": {},
   "outputs": [],
   "source": [
    "img_zeros[1,:,move:32] = img[1,:,0:32-move]\n",
    "img_zeros[1,:,0:move] = img[1,:,32-move:32] #Shifting up"
   ]
  },
  {
   "cell_type": "code",
   "execution_count": 74,
   "id": "a7d9e1a2",
   "metadata": {},
   "outputs": [
    {
     "data": {
      "text/plain": [
       "(3, 32, 32)"
      ]
     },
     "execution_count": 74,
     "metadata": {},
     "output_type": "execute_result"
    }
   ],
   "source": [
    "img_zeros.shape"
   ]
  },
  {
   "cell_type": "code",
   "execution_count": 75,
   "id": "c06fca86",
   "metadata": {},
   "outputs": [
    {
     "data": {
      "image/png": "[encoded data removed]",
      "text/plain": [
       "<Figure size 432x288 with 1 Axes>"
      ]
     },
     "metadata": {
      "needs_background": "light"
     },
     "output_type": "display_data"
    }
   ],
   "source": [
    "img_zeros = img_zeros/2 + 0.5\n",
    "plt.imshow(np.transpose(img_zeros, (1, 2, 0)))\n",
    "plt.show()"
   ]
  },
  {
   "cell_type": "code",
   "execution_count": 76,
   "id": "91e6c85e",
   "metadata": {},
   "outputs": [
    {
     "data": {
      "image/png": "[encoded data removed]",
      "text/plain": [
       "<Figure size 432x288 with 1 Axes>"
      ]
     },
     "metadata": {
      "needs_background": "light"
     },
     "output_type": "display_data"
    }
   ],
   "source": [
    "imshow(img)"
   ]
  },
  {
   "cell_type": "code",
   "execution_count": null,
   "id": "0ae59060",
   "metadata": {},
   "outputs": [],
   "source": []
  }
 ],
 "metadata": {
  "kernelspec": {
   "display_name": "Python 3 (ipykernel)",
   "language": "python",
   "name": "python3"
  },
  "language_info": {
   "codemirror_mode": {
    "name": "ipython",
    "version": 3
   },
   "file_extension": ".py",
   "mimetype": "text/x-python",
   "name": "python",
   "nbconvert_exporter": "python",
   "pygments_lexer": "ipython3",
   "version": "3.7.11"
  }
 },
 "nbformat": 4,
 "nbformat_minor": 5
}
