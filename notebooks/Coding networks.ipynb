{
 "cells": [
  {
   "cell_type": "code",
   "execution_count": 1,
   "id": "fd5b802d",
   "metadata": {},
   "outputs": [],
   "source": [
    "import torchvision.models as models\n",
    "import torch.nn as nn\n",
    "from torch import Tensor\n",
    "import torch\n",
    "from torchinfo import summary\n"
   ]
  },
  {
   "cell_type": "code",
   "execution_count": 2,
   "id": "f169df5a",
   "metadata": {},
   "outputs": [],
   "source": [
    "from torchvision.models.resnet import BasicBlock, Bottleneck"
   ]
  },
  {
   "cell_type": "code",
   "execution_count": 12,
   "id": "683aac41",
   "metadata": {},
   "outputs": [],
   "source": [
    "class Unet_ResNet(nn.Module):\n",
    "    def __init__(self):\n",
    "        super().__init__()\n",
    "        self.conv_input = nn.Sequential(nn.Conv2d(in_channels=3, out_channels=64, kernel_size=1, stride=1, padding=0, bias=False),\n",
    "                      nn.BatchNorm2d(64, eps=1e-05, momentum=0.1, affine=True, track_running_stats=True),\n",
    "                      nn.ReLU(inplace=True))\n",
    "        layers = []\n",
    "        downsample = nn.Sequential(\n",
    "          nn.Conv2d(64, 256, kernel_size=(1, 1), stride=(1, 1), bias=False),\n",
    "          nn.BatchNorm2d(256, eps=1e-05, momentum=0.1, affine=True, track_running_stats=True)\n",
    "        )\n",
    "        layers.append(Bottleneck(64,64, downsample=downsample))\n",
    "        for _ in range(0, 4):\n",
    "            layers.append(Bottleneck(256, 64))\n",
    "        self.blocks = nn.Sequential(*layers)\n",
    "        self.conv_end = nn.Sequential( nn.Conv2d(in_channels=256, out_channels=3, kernel_size=1, stride=1, padding=0),\n",
    "                                  nn.ReLU(inplace=True))\n",
    "        #Reference source code for initialization of Batch Norm and Conv2d https://pytorch.org/vision/0.8/_modules/torchvision/models/resnet.html\n",
    "        for m in self.modules():\n",
    "            if isinstance(m, nn.Conv2d):\n",
    "                nn.init.kaiming_normal_(m.weight, mode=\"fan_out\", nonlinearity=\"relu\")\n",
    "            elif isinstance(m, (nn.BatchNorm2d, nn.GroupNorm)):\n",
    "                nn.init.constant_(m.weight, 1)\n",
    "                nn.init.constant_(m.bias, 0)\n",
    "    def forward(self, x: Tensor) -> Tensor:\n",
    "        x = self.conv_input(x)\n",
    "        x = self.blocks(x)\n",
    "        x = self.conv_end(x)\n",
    "        return x"
   ]
  },
  {
   "cell_type": "code",
   "execution_count": 13,
   "id": "5178a91b",
   "metadata": {},
   "outputs": [],
   "source": [
    "unet = Unet_ResNet()"
   ]
  },
  {
   "cell_type": "code",
   "execution_count": 14,
   "id": "c1f4d562",
   "metadata": {},
   "outputs": [
    {
     "data": {
      "text/plain": [
       "[Sequential(\n",
       "   (0): Conv2d(3, 64, kernel_size=(1, 1), stride=(1, 1), bias=False)\n",
       "   (1): BatchNorm2d(64, eps=1e-05, momentum=0.1, affine=True, track_running_stats=True)\n",
       "   (2): ReLU(inplace=True)\n",
       " ),\n",
       " Sequential(\n",
       "   (0): Bottleneck(\n",
       "     (conv1): Conv2d(64, 64, kernel_size=(1, 1), stride=(1, 1), bias=False)\n",
       "     (bn1): BatchNorm2d(64, eps=1e-05, momentum=0.1, affine=True, track_running_stats=True)\n",
       "     (conv2): Conv2d(64, 64, kernel_size=(3, 3), stride=(1, 1), padding=(1, 1), bias=False)\n",
       "     (bn2): BatchNorm2d(64, eps=1e-05, momentum=0.1, affine=True, track_running_stats=True)\n",
       "     (conv3): Conv2d(64, 256, kernel_size=(1, 1), stride=(1, 1), bias=False)\n",
       "     (bn3): BatchNorm2d(256, eps=1e-05, momentum=0.1, affine=True, track_running_stats=True)\n",
       "     (relu): ReLU(inplace=True)\n",
       "     (downsample): Sequential(\n",
       "       (0): Conv2d(64, 256, kernel_size=(1, 1), stride=(1, 1), bias=False)\n",
       "       (1): BatchNorm2d(256, eps=1e-05, momentum=0.1, affine=True, track_running_stats=True)\n",
       "     )\n",
       "   )\n",
       "   (1): Bottleneck(\n",
       "     (conv1): Conv2d(256, 64, kernel_size=(1, 1), stride=(1, 1), bias=False)\n",
       "     (bn1): BatchNorm2d(64, eps=1e-05, momentum=0.1, affine=True, track_running_stats=True)\n",
       "     (conv2): Conv2d(64, 64, kernel_size=(3, 3), stride=(1, 1), padding=(1, 1), bias=False)\n",
       "     (bn2): BatchNorm2d(64, eps=1e-05, momentum=0.1, affine=True, track_running_stats=True)\n",
       "     (conv3): Conv2d(64, 256, kernel_size=(1, 1), stride=(1, 1), bias=False)\n",
       "     (bn3): BatchNorm2d(256, eps=1e-05, momentum=0.1, affine=True, track_running_stats=True)\n",
       "     (relu): ReLU(inplace=True)\n",
       "   )\n",
       "   (2): Bottleneck(\n",
       "     (conv1): Conv2d(256, 64, kernel_size=(1, 1), stride=(1, 1), bias=False)\n",
       "     (bn1): BatchNorm2d(64, eps=1e-05, momentum=0.1, affine=True, track_running_stats=True)\n",
       "     (conv2): Conv2d(64, 64, kernel_size=(3, 3), stride=(1, 1), padding=(1, 1), bias=False)\n",
       "     (bn2): BatchNorm2d(64, eps=1e-05, momentum=0.1, affine=True, track_running_stats=True)\n",
       "     (conv3): Conv2d(64, 256, kernel_size=(1, 1), stride=(1, 1), bias=False)\n",
       "     (bn3): BatchNorm2d(256, eps=1e-05, momentum=0.1, affine=True, track_running_stats=True)\n",
       "     (relu): ReLU(inplace=True)\n",
       "   )\n",
       "   (3): Bottleneck(\n",
       "     (conv1): Conv2d(256, 64, kernel_size=(1, 1), stride=(1, 1), bias=False)\n",
       "     (bn1): BatchNorm2d(64, eps=1e-05, momentum=0.1, affine=True, track_running_stats=True)\n",
       "     (conv2): Conv2d(64, 64, kernel_size=(3, 3), stride=(1, 1), padding=(1, 1), bias=False)\n",
       "     (bn2): BatchNorm2d(64, eps=1e-05, momentum=0.1, affine=True, track_running_stats=True)\n",
       "     (conv3): Conv2d(64, 256, kernel_size=(1, 1), stride=(1, 1), bias=False)\n",
       "     (bn3): BatchNorm2d(256, eps=1e-05, momentum=0.1, affine=True, track_running_stats=True)\n",
       "     (relu): ReLU(inplace=True)\n",
       "   )\n",
       "   (4): Bottleneck(\n",
       "     (conv1): Conv2d(256, 64, kernel_size=(1, 1), stride=(1, 1), bias=False)\n",
       "     (bn1): BatchNorm2d(64, eps=1e-05, momentum=0.1, affine=True, track_running_stats=True)\n",
       "     (conv2): Conv2d(64, 64, kernel_size=(3, 3), stride=(1, 1), padding=(1, 1), bias=False)\n",
       "     (bn2): BatchNorm2d(64, eps=1e-05, momentum=0.1, affine=True, track_running_stats=True)\n",
       "     (conv3): Conv2d(64, 256, kernel_size=(1, 1), stride=(1, 1), bias=False)\n",
       "     (bn3): BatchNorm2d(256, eps=1e-05, momentum=0.1, affine=True, track_running_stats=True)\n",
       "     (relu): ReLU(inplace=True)\n",
       "   )\n",
       " ),\n",
       " Sequential(\n",
       "   (0): Conv2d(256, 3, kernel_size=(1, 1), stride=(1, 1))\n",
       "   (1): ReLU(inplace=True)\n",
       " )]"
      ]
     },
     "execution_count": 14,
     "metadata": {},
     "output_type": "execute_result"
    }
   ],
   "source": [
    "list(unet.children())"
   ]
  },
  {
   "cell_type": "code",
   "execution_count": 15,
   "id": "aca04517",
   "metadata": {},
   "outputs": [
    {
     "data": {
      "text/plain": [
       "==========================================================================================\n",
       "Layer (type:depth-idx)                   Output Shape              Param #\n",
       "==========================================================================================\n",
       "Unet_ResNet                              --                        --\n",
       "├─Sequential: 1-1                        [5, 64, 28, 28]           --\n",
       "│    └─Conv2d: 2-1                       [5, 64, 28, 28]           192\n",
       "│    └─BatchNorm2d: 2-2                  [5, 64, 28, 28]           128\n",
       "│    └─ReLU: 2-3                         [5, 64, 28, 28]           --\n",
       "├─Sequential: 1-2                        [5, 256, 28, 28]          --\n",
       "│    └─Bottleneck: 2-4                   [5, 256, 28, 28]          --\n",
       "│    │    └─Conv2d: 3-1                  [5, 64, 28, 28]           4,096\n",
       "│    │    └─BatchNorm2d: 3-2             [5, 64, 28, 28]           128\n",
       "│    │    └─ReLU: 3-3                    [5, 64, 28, 28]           --\n",
       "│    │    └─Conv2d: 3-4                  [5, 64, 28, 28]           36,864\n",
       "│    │    └─BatchNorm2d: 3-5             [5, 64, 28, 28]           128\n",
       "│    │    └─ReLU: 3-6                    [5, 64, 28, 28]           --\n",
       "│    │    └─Conv2d: 3-7                  [5, 256, 28, 28]          16,384\n",
       "│    │    └─BatchNorm2d: 3-8             [5, 256, 28, 28]          512\n",
       "│    │    └─Sequential: 3-9              [5, 256, 28, 28]          16,896\n",
       "│    │    └─ReLU: 3-10                   [5, 256, 28, 28]          --\n",
       "│    └─Bottleneck: 2-5                   [5, 256, 28, 28]          --\n",
       "│    │    └─Conv2d: 3-11                 [5, 64, 28, 28]           16,384\n",
       "│    │    └─BatchNorm2d: 3-12            [5, 64, 28, 28]           128\n",
       "│    │    └─ReLU: 3-13                   [5, 64, 28, 28]           --\n",
       "│    │    └─Conv2d: 3-14                 [5, 64, 28, 28]           36,864\n",
       "│    │    └─BatchNorm2d: 3-15            [5, 64, 28, 28]           128\n",
       "│    │    └─ReLU: 3-16                   [5, 64, 28, 28]           --\n",
       "│    │    └─Conv2d: 3-17                 [5, 256, 28, 28]          16,384\n",
       "│    │    └─BatchNorm2d: 3-18            [5, 256, 28, 28]          512\n",
       "│    │    └─ReLU: 3-19                   [5, 256, 28, 28]          --\n",
       "│    └─Bottleneck: 2-6                   [5, 256, 28, 28]          --\n",
       "│    │    └─Conv2d: 3-20                 [5, 64, 28, 28]           16,384\n",
       "│    │    └─BatchNorm2d: 3-21            [5, 64, 28, 28]           128\n",
       "│    │    └─ReLU: 3-22                   [5, 64, 28, 28]           --\n",
       "│    │    └─Conv2d: 3-23                 [5, 64, 28, 28]           36,864\n",
       "│    │    └─BatchNorm2d: 3-24            [5, 64, 28, 28]           128\n",
       "│    │    └─ReLU: 3-25                   [5, 64, 28, 28]           --\n",
       "│    │    └─Conv2d: 3-26                 [5, 256, 28, 28]          16,384\n",
       "│    │    └─BatchNorm2d: 3-27            [5, 256, 28, 28]          512\n",
       "│    │    └─ReLU: 3-28                   [5, 256, 28, 28]          --\n",
       "│    └─Bottleneck: 2-7                   [5, 256, 28, 28]          --\n",
       "│    │    └─Conv2d: 3-29                 [5, 64, 28, 28]           16,384\n",
       "│    │    └─BatchNorm2d: 3-30            [5, 64, 28, 28]           128\n",
       "│    │    └─ReLU: 3-31                   [5, 64, 28, 28]           --\n",
       "│    │    └─Conv2d: 3-32                 [5, 64, 28, 28]           36,864\n",
       "│    │    └─BatchNorm2d: 3-33            [5, 64, 28, 28]           128\n",
       "│    │    └─ReLU: 3-34                   [5, 64, 28, 28]           --\n",
       "│    │    └─Conv2d: 3-35                 [5, 256, 28, 28]          16,384\n",
       "│    │    └─BatchNorm2d: 3-36            [5, 256, 28, 28]          512\n",
       "│    │    └─ReLU: 3-37                   [5, 256, 28, 28]          --\n",
       "│    └─Bottleneck: 2-8                   [5, 256, 28, 28]          --\n",
       "│    │    └─Conv2d: 3-38                 [5, 64, 28, 28]           16,384\n",
       "│    │    └─BatchNorm2d: 3-39            [5, 64, 28, 28]           128\n",
       "│    │    └─ReLU: 3-40                   [5, 64, 28, 28]           --\n",
       "│    │    └─Conv2d: 3-41                 [5, 64, 28, 28]           36,864\n",
       "│    │    └─BatchNorm2d: 3-42            [5, 64, 28, 28]           128\n",
       "│    │    └─ReLU: 3-43                   [5, 64, 28, 28]           --\n",
       "│    │    └─Conv2d: 3-44                 [5, 256, 28, 28]          16,384\n",
       "│    │    └─BatchNorm2d: 3-45            [5, 256, 28, 28]          512\n",
       "│    │    └─ReLU: 3-46                   [5, 256, 28, 28]          --\n",
       "├─Sequential: 1-3                        [5, 3, 28, 28]            --\n",
       "│    └─Conv2d: 2-9                       [5, 3, 28, 28]            771\n",
       "│    └─ReLU: 2-10                        [5, 3, 28, 28]            --\n",
       "==========================================================================================\n",
       "Total params: 357,699\n",
       "Trainable params: 357,699\n",
       "Non-trainable params: 0\n",
       "Total mult-adds (G): 1.38\n",
       "==========================================================================================\n",
       "Input size (MB): 0.05\n",
       "Forward/backward pass size (MB): 140.59\n",
       "Params size (MB): 1.43\n",
       "Estimated Total Size (MB): 142.06\n",
       "=========================================================================================="
      ]
     },
     "execution_count": 15,
     "metadata": {},
     "output_type": "execute_result"
    }
   ],
   "source": [
    "batch_size = 5\n",
    "summary(unet, input_size=(batch_size, 3, 28, 28))"
   ]
  },
  {
   "cell_type": "code",
   "execution_count": 27,
   "id": "c37de721",
   "metadata": {
    "pycharm": {
     "name": "#%%\n"
    }
   },
   "outputs": [],
   "source": [
    "class Lens_Network(nn.Module):\n",
    "    def __init__(self):\n",
    "        super().__init__()\n",
    "        #Lens component\n",
    "        self.lens = Unet_ResNet()\n",
    "        \n",
    "        #Feature extraction\n",
    "        res = models.resnet50()\n",
    "        res.fc = torch.nn.Linear(in_features=2048, out_features=4, bias=True)\n",
    "        self.res = res\n",
    "        \n",
    "    def forward(self, x: Tensor) -> Tensor:\n",
    "        orig = x\n",
    "        lens_output = self.lens(x)\n",
    "        x = lens_output + orig\n",
    "        x = self.res(x)\n",
    "        return lens_output, x"
   ]
  }
 ],
 "metadata": {
  "kernelspec": {
   "display_name": "Python 3 (ipykernel)",
   "language": "python",
   "name": "python3"
  },
  "language_info": {
   "codemirror_mode": {
    "name": "ipython",
    "version": 3
   },
   "file_extension": ".py",
   "mimetype": "text/x-python",
   "name": "python",
   "nbconvert_exporter": "python",
   "pygments_lexer": "ipython3",
   "version": "3.7.11"
  }
 },
 "nbformat": 4,
 "nbformat_minor": 5
}