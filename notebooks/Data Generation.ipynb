{
 "cells": [
  {
   "cell_type": "code",
   "execution_count": 21,
   "id": "2baa69cd",
   "metadata": {
    "id": "2baa69cd"
   },
   "outputs": [],
   "source": [
    "from pathlib import Path\n",
    "import torch\n",
    "import matplotlib.pyplot as plt\n",
    "import torchvision.transforms as transforms\n",
    "import numpy as np\n",
    "import torchvision.transforms.functional as TF\n",
    "from torch.utils.data import Dataset, DataLoader\n",
    "from tqdm import tqdm\n"
   ]
  },
  {
   "cell_type": "code",
   "execution_count": 22,
   "id": "1721eee3",
   "metadata": {
    "id": "1721eee3"
   },
   "outputs": [],
   "source": [
    "import torchvision.models as models\n",
    "import torchvision\n",
    "import torch.nn as nn\n",
    "from torch import Tensor\n",
    "from torchvision.models.resnet import BasicBlock,Bottleneck\n",
    "import torch.optim as optim"
   ]
  },
  {
   "cell_type": "code",
   "execution_count": 23,
   "id": "259a31e2",
   "metadata": {
    "id": "259a31e2"
   },
   "outputs": [],
   "source": [
    "path = Path('../')"
   ]
  },
  {
   "cell_type": "code",
   "execution_count": 24,
   "id": "cbe9140f",
   "metadata": {
    "id": "cbe9140f"
   },
   "outputs": [],
   "source": [
    "def imshow(img):\n",
    "    img = img/2 + 0.5\n",
    "    img_np = img.numpy()\n",
    "    plt.imshow(np.transpose(img_np, (1, 2, 0)))\n",
    "    plt.show()"
   ]
  },
  {
   "cell_type": "code",
   "execution_count": 25,
   "id": "cbd7a7c4",
   "metadata": {
    "id": "cbd7a7c4"
   },
   "outputs": [],
   "source": [
    "classes = ('plane', 'car', 'bird', 'cat',\n",
    "           'deer', 'dog', 'frog', 'horse', 'ship', 'truck')"
   ]
  },
  {
   "cell_type": "code",
   "execution_count": 26,
   "id": "6a18b125",
   "metadata": {
    "id": "6a18b125"
   },
   "outputs": [],
   "source": [
    "def add_arrow(img):\n",
    "    start = 2\n",
    "    for i in range(start,start+7):\n",
    "        img[:,i,start+6] = -1\n",
    "    for i in range(start+5,start+8):\n",
    "        img[:,start+1,i] = -1\n",
    "    for i in range(start+4,start+9):\n",
    "        img[:,start+2,i] = -1\n",
    "    return img"
   ]
  },
  {
   "cell_type": "code",
   "execution_count": 27,
   "id": "87949306",
   "metadata": {
    "id": "87949306"
   },
   "outputs": [],
   "source": [
    "class arrowedCIFAR(Dataset):\n",
    "    \"\"\"Make CIFAR with arrow\"\"\"\n",
    "\n",
    "    def __init__(self, train=True, clean_data = False):\n",
    "        transform = transforms.Compose(\n",
    "        [transforms.ToTensor(),\n",
    "         transforms.Normalize((0.5, 0.5, 0.5), (0.5, 0.5, 0.5))])\n",
    "        self.train = train\n",
    "        if self.train:\n",
    "            self.cifar = torchvision.datasets.CIFAR10(root = path/'data', download = True, transform=transform, train = True)\n",
    "        else:\n",
    "            self.cifar = torchvision.datasets.CIFAR10(root = path/'data', download = True, transform=transform, train = False)\n",
    "        self.data = []\n",
    "        self.labels = []\n",
    "        indices = np.random.randint(low = 0, high = len(self.cifar), size=256*4)\n",
    "        for i in tqdm(indices):\n",
    "        #for i in tqdm(range(len(self.cifar))):\n",
    "            img, orig_label = self.cifar.__getitem__(i)\n",
    "            if not clean_data:\n",
    "                img = add_arrow(img)\n",
    "            self.data.append(img) #Only care about the rotation\n",
    "            self.labels.append(0)\n",
    "            for k, angle in enumerate([90, 180, 270]):\n",
    "                img = self.cifar.__getitem__(i)[0]\n",
    "                if not clean_data:\n",
    "                    img = add_arrow(img)\n",
    "                self.data.append(TF.rotate(img, angle))\n",
    "                self.labels.append(k+1) #Add the rest of labels\n",
    "            \n",
    "    def __len__(self):\n",
    "        return len(self.labels)\n",
    "\n",
    "    def __getitem__(self, idx):\n",
    "        return self.data[idx], self.labels[idx]"
   ]
  },
  {
   "cell_type": "code",
   "execution_count": 11,
   "id": "71b1b575",
   "metadata": {
    "colab": {
     "base_uri": "https://localhost:8080/"
    },
    "id": "71b1b575",
    "outputId": "49228918-c616-4d77-9d0b-b2ca31d72680"
   },
   "outputs": [
    {
     "name": "stdout",
     "output_type": "stream",
     "text": [
      "Files already downloaded and verified\n"
     ]
    },
    {
     "name": "stderr",
     "output_type": "stream",
     "text": [
      "100%|█████████████████████████████████████████████████████████████████████████████| 1024/1024 [00:01<00:00, 545.05it/s]\n"
     ]
    },
    {
     "name": "stdout",
     "output_type": "stream",
     "text": [
      "Files already downloaded and verified\n"
     ]
    },
    {
     "name": "stderr",
     "output_type": "stream",
     "text": [
      "100%|█████████████████████████████████████████████████████████████████████████████| 1024/1024 [00:01<00:00, 562.02it/s]\n"
     ]
    }
   ],
   "source": [
    "trainset = arrowedCIFAR(train=True, clean_data = True)\n",
    "testset = arrowedCIFAR(train=False, clean_data = True)"
   ]
  },
  {
   "cell_type": "code",
   "execution_count": 12,
   "id": "65f40551",
   "metadata": {},
   "outputs": [],
   "source": [
    "batch_size = 4\n",
    "testloader = torch.utils.data.DataLoader(testset, batch_size=batch_size,\n",
    "                                          shuffle=True)"
   ]
  },
  {
   "cell_type": "code",
   "execution_count": 20,
   "id": "bfd6b356",
   "metadata": {},
   "outputs": [
    {
     "data": {
      "image/png": "[encoded data removed]",
      "text/plain": [
       "<Figure size 288x288 with 4 Axes>"
      ]
     },
     "metadata": {},
     "output_type": "display_data"
    }
   ],
   "source": [
    "imgs, labels = iter(testloader).next()\n",
    "fig = plt.figure(figsize=(4,4))\n",
    "row = 2\n",
    "cols = 2\n",
    "for i in range(imgs.shape[0]):\n",
    "    ax = fig.add_subplot(row, cols, i+1, xticks=[], yticks=[])\n",
    "    img = imgs[i]/2 + 0.5\n",
    "    img = np.transpose(img, (1, 2, 0))\n",
    "    ax.imshow(img)\n",
    "    ax.set_title(f'Label: {int(labels[i].item())*90} degrees')\n",
    "plt.show()"
   ]
  },
  {
   "cell_type": "markdown",
   "id": "d85758d6",
   "metadata": {
    "id": "d85758d6"
   },
   "source": [
    "## Coding for the color aberration"
   ]
  },
  {
   "cell_type": "code",
   "execution_count": 28,
   "id": "42ab3489",
   "metadata": {},
   "outputs": [],
   "source": [
    "transform = transforms.Compose(\n",
    "[transforms.ToTensor(),\n",
    " transforms.Normalize((0.5, 0.5, 0.5), (0.5, 0.5, 0.5))])"
   ]
  },
  {
   "cell_type": "code",
   "execution_count": 29,
   "id": "fcacab48",
   "metadata": {},
   "outputs": [
    {
     "name": "stdout",
     "output_type": "stream",
     "text": [
      "Files already downloaded and verified\n"
     ]
    }
   ],
   "source": [
    "cifar = torchvision.datasets.CIFAR10(root = path/'data', download = True, transform=transform, train = True)"
   ]
  },
  {
   "cell_type": "code",
   "execution_count": 51,
   "id": "92d8e146",
   "metadata": {},
   "outputs": [],
   "source": [
    "batch_size = 1\n",
    "trainloader = torch.utils.data.DataLoader(cifar, batch_size=batch_size,\n",
    "                                          shuffle=True)"
   ]
  },
  {
   "cell_type": "code",
   "execution_count": 52,
   "id": "89190ba5",
   "metadata": {},
   "outputs": [],
   "source": [
    "img, label = next(iter(trainloader))"
   ]
  },
  {
   "cell_type": "code",
   "execution_count": 58,
   "id": "3eea3703",
   "metadata": {},
   "outputs": [],
   "source": [
    "img = img.squeeze()"
   ]
  },
  {
   "cell_type": "code",
   "execution_count": 114,
   "id": "99ed0aea",
   "metadata": {
    "id": "99ed0aea"
   },
   "outputs": [],
   "source": [
    "img_zeros = np.zeros((3,32,32))"
   ]
  },
  {
   "cell_type": "code",
   "execution_count": 115,
   "id": "8e25c5df",
   "metadata": {
    "id": "8e25c5df"
   },
   "outputs": [],
   "source": [
    "img_zeros[2,:,:] = img[2,:,:]\n",
    "img_zeros[0,:,:] = img[0,:,:]"
   ]
  },
  {
   "cell_type": "code",
   "execution_count": 32,
   "id": "83965fd8",
   "metadata": {
    "id": "83965fd8"
   },
   "outputs": [],
   "source": [
    "move = 1"
   ]
  },
  {
   "cell_type": "code",
   "execution_count": 117,
   "id": "e373f8c7",
   "metadata": {},
   "outputs": [],
   "source": [
    "angle = 270"
   ]
  },
  {
   "cell_type": "code",
   "execution_count": null,
   "id": "08b5cfeb",
   "metadata": {},
   "outputs": [],
   "source": [
    "if angle == 0:\n",
    "    img_zeros[1,:,move:32] = img[1,:,0:32-move]\n",
    "    img_zeros[1,:,0:move] = img[1,:,32-move:32] #Shifting up\n",
    "elif angle == 90:\n",
    "    img_zeros[1,0:32-move,:] = img[1,1:32,:]\n",
    "    img_zeros[1,32-move,:] = img[1,0,:] #Shifting left\n",
    "elif angle == 180:\n",
    "    img_zeros[1,:,0:32-move] = img[1,:,1:32]\n",
    "    img_zeros[1,:,32-move:32] = img[1,:,0:move] #Shifting down\n",
    "elif angle == 270:\n",
    "    img_zeros[1,move:32,:] = img[1,0:32-move,:]\n",
    "    img_zeros[1,0,:] = img[1,32-move:32,:] #Shifting right"
   ]
  },
  {
   "cell_type": "code",
   "execution_count": null,
   "id": "0e69f10a",
   "metadata": {},
   "outputs": [],
   "source": [
    "img_zeros = img_zeros/2 + 0.5\n",
    "plt.imshow(np.transpose(img_zeros, (1, 2, 0)))\n",
    "plt.show()"
   ]
  },
  {
   "cell_type": "code",
   "execution_count": null,
   "id": "b93f688d",
   "metadata": {},
   "outputs": [],
   "source": [
    "imshow(img)"
   ]
  },
  {
   "cell_type": "code",
   "execution_count": 33,
   "id": "254a700f",
   "metadata": {},
   "outputs": [],
   "source": [
    "\n",
    "class chromaCIFAR(Dataset):\n",
    "    \"\"\"Make CIFAR with chromatic aberration\"\"\"\n",
    "    def __init__(self, train=True):\n",
    "        transform = transforms.Compose(\n",
    "        [transforms.ToTensor(),\n",
    "         transforms.Normalize((0.5, 0.5, 0.5), (0.5, 0.5, 0.5))])\n",
    "        self.train = train\n",
    "        if self.train:\n",
    "            self.cifar = torchvision.datasets.CIFAR10(root = path/'data', download = True, transform=transform, train = True)\n",
    "        else:\n",
    "            self.cifar = torchvision.datasets.CIFAR10(root = path/'data', download = True, transform=transform, train = False)\n",
    "        self.data = []\n",
    "        self.labels = []\n",
    "        move = 1\n",
    "        for i in tqdm(range(len(self.cifar))):\n",
    "            img, orig_label = self.cifar.__getitem__(i)\n",
    "            img_zeros = torch.zeros(3,32,32)\n",
    "            for k, angle in enumerate([0, 90, 180, 270]):\n",
    "                img = TF.rotate(img, angle) #Rotate first\n",
    "                img_zeros[2,:,:] = img[2,:,:] #No touch Red and Blue channel\n",
    "                img_zeros[0,:,:] = img[0,:,:]\n",
    "                if angle == 0:\n",
    "                    img_zeros[1,:,move:32] = img[1,:,0:32-move]\n",
    "                elif angle == 90:\n",
    "                    img_zeros[1,0:32-move,:] = img[1,1:32,:]\n",
    "                elif angle == 180:\n",
    "                    img_zeros[1,:,0:32-move] = img[1,:,1:32]\n",
    "                elif angle == 270:\n",
    "                    img_zeros[1,move:32,:] = img[1,0:32-move,:]\n",
    "                self.data.append(img_zeros)\n",
    "                self.labels.append(k) #add label\n",
    "    def __len__(self):\n",
    "        return len(self.labels)\n",
    "    def __getitem__(self, idx):\n",
    "        return self.data[idx], self.labels[idx]"
   ]
  },
  {
   "cell_type": "code",
   "execution_count": 34,
   "id": "5f540a72",
   "metadata": {
    "id": "5f540a72"
   },
   "outputs": [
    {
     "name": "stdout",
     "output_type": "stream",
     "text": [
      "Files already downloaded and verified\n"
     ]
    },
    {
     "name": "stderr",
     "output_type": "stream",
     "text": [
      "100%|███████████████████████████████████████████████████████████████████████████| 50000/50000 [01:01<00:00, 807.06it/s]\n"
     ]
    },
    {
     "name": "stdout",
     "output_type": "stream",
     "text": [
      "Files already downloaded and verified\n"
     ]
    },
    {
     "name": "stderr",
     "output_type": "stream",
     "text": [
      "100%|███████████████████████████████████████████████████████████████████████████| 10000/10000 [00:12<00:00, 778.72it/s]\n"
     ]
    }
   ],
   "source": [
    "trainset = chromaCIFAR(train=True)\n",
    "testset = chromaCIFAR(train=False)"
   ]
  },
  {
   "cell_type": "code",
   "execution_count": 35,
   "id": "c06fca86",
   "metadata": {
    "id": "c06fca86"
   },
   "outputs": [],
   "source": [
    "batch_size = 4\n",
    "testloader = torch.utils.data.DataLoader(testset, batch_size=batch_size,\n",
    "                                          shuffle=True)"
   ]
  },
  {
   "cell_type": "code",
   "execution_count": 42,
   "id": "91e6c85e",
   "metadata": {
    "id": "91e6c85e",
    "pycharm": {
     "name": "#%%\n"
    }
   },
   "outputs": [
    {
     "data": {
      "image/png": "[encoded data removed]",
      "text/plain": [
       "<Figure size 288x288 with 4 Axes>"
      ]
     },
     "metadata": {},
     "output_type": "display_data"
    }
   ],
   "source": [
    "imgs, labels = iter(testloader).next()\n",
    "fig = plt.figure(figsize=(4,4))\n",
    "row = 2\n",
    "cols = 2\n",
    "for i in range(imgs.shape[0]):\n",
    "    ax = fig.add_subplot(row, cols, i+1, xticks=[], yticks=[])\n",
    "    img = imgs[i]/2 + 0.5\n",
    "    img = np.transpose(img, (1, 2, 0))\n",
    "    ax.imshow(img)\n",
    "    ax.set_title(f'Label: {int(labels[i].item())*90} degrees')\n",
    "plt.show()"
   ]
  },
  {
   "cell_type": "code",
   "execution_count": null,
   "id": "b51608b3",
   "metadata": {},
   "outputs": [],
   "source": []
  }
 ],
 "metadata": {
  "accelerator": "GPU",
  "colab": {
   "collapsed_sections": [
    "d85758d6"
   ],
   "name": "Scratch coding.ipynb",
   "provenance": []
  },
  "kernelspec": {
   "display_name": "Python 3 (ipykernel)",
   "language": "python",
   "name": "python3"
  },
  "language_info": {
   "codemirror_mode": {
    "name": "ipython",
    "version": 3
   },
   "file_extension": ".py",
   "mimetype": "text/x-python",
   "name": "python",
   "nbconvert_exporter": "python",
   "pygments_lexer": "ipython3",
   "version": "3.7.11"
  }
 },
 "nbformat": 4,
 "nbformat_minor": 5
}
