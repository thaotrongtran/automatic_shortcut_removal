{
 "cells": [
  {
   "cell_type": "code",
   "execution_count": 5,
   "id": "fd5b802d",
   "metadata": {},
   "outputs": [],
   "source": [
    "import torchvision.models as models\n",
    "import torch.nn as nn\n",
    "from torch import Tensor\n",
    "import torch\n",
    "from torchinfo import summary\n"
   ]
  },
  {
   "cell_type": "code",
   "execution_count": 6,
   "id": "f169df5a",
   "metadata": {},
   "outputs": [],
   "source": [
    "from torchvision.models.resnet import BasicBlock"
   ]
  },
  {
   "cell_type": "code",
   "execution_count": 23,
   "id": "683aac41",
   "metadata": {},
   "outputs": [],
   "source": [
    "class Unet_ResNet(nn.Module):\n",
    "    def __init__(self):\n",
    "        super().__init__()\n",
    "        self.conv_input = nn.Sequential(nn.Conv2d(in_channels=3, out_channels=64, kernel_size=1, stride=1, padding=0),\n",
    "                                  nn.ReLU(inplace=True))\n",
    "        layers = []\n",
    "        for _ in range(0, 5):\n",
    "            layers.append(BasicBlock(64, 64))\n",
    "        self.blocks = nn.Sequential(*layers)\n",
    "        \n",
    "        self.conv_end = nn.Sequential( nn.Conv2d(in_channels=64, out_channels=3, kernel_size=1, stride=1, padding=0),\n",
    "                                  nn.ReLU(inplace=True))\n",
    "        #Reference source code for initialization of Batch Norm and Conv2d https://pytorch.org/vision/0.8/_modules/torchvision/models/resnet.html\n",
    "        for m in self.modules():\n",
    "            if isinstance(m, nn.Conv2d):\n",
    "                nn.init.kaiming_normal_(m.weight, mode=\"fan_out\", nonlinearity=\"relu\")\n",
    "            elif isinstance(m, (nn.BatchNorm2d, nn.GroupNorm)):\n",
    "                nn.init.constant_(m.weight, 1)\n",
    "                nn.init.constant_(m.bias, 0)\n",
    "    def forward(self, x: Tensor) -> Tensor:\n",
    "        x = self.conv_input(x)\n",
    "        x = self.blocks(x)\n",
    "        x = self.conv_end(x)\n",
    "        return x"
   ]
  },
  {
   "cell_type": "code",
   "execution_count": 24,
   "id": "5178a91b",
   "metadata": {},
   "outputs": [],
   "source": [
    "unet = Unet_ResNet()"
   ]
  },
  {
   "cell_type": "code",
   "execution_count": 25,
   "id": "c1f4d562",
   "metadata": {},
   "outputs": [
    {
     "data": {
      "text/plain": [
       "[Sequential(\n",
       "   (0): Conv2d(3, 64, kernel_size=(1, 1), stride=(1, 1))\n",
       "   (1): ReLU(inplace=True)\n",
       " ),\n",
       " Sequential(\n",
       "   (0): BasicBlock(\n",
       "     (conv1): Conv2d(64, 64, kernel_size=(3, 3), stride=(1, 1), padding=(1, 1), bias=False)\n",
       "     (bn1): BatchNorm2d(64, eps=1e-05, momentum=0.1, affine=True, track_running_stats=True)\n",
       "     (relu): ReLU(inplace=True)\n",
       "     (conv2): Conv2d(64, 64, kernel_size=(3, 3), stride=(1, 1), padding=(1, 1), bias=False)\n",
       "     (bn2): BatchNorm2d(64, eps=1e-05, momentum=0.1, affine=True, track_running_stats=True)\n",
       "   )\n",
       "   (1): BasicBlock(\n",
       "     (conv1): Conv2d(64, 64, kernel_size=(3, 3), stride=(1, 1), padding=(1, 1), bias=False)\n",
       "     (bn1): BatchNorm2d(64, eps=1e-05, momentum=0.1, affine=True, track_running_stats=True)\n",
       "     (relu): ReLU(inplace=True)\n",
       "     (conv2): Conv2d(64, 64, kernel_size=(3, 3), stride=(1, 1), padding=(1, 1), bias=False)\n",
       "     (bn2): BatchNorm2d(64, eps=1e-05, momentum=0.1, affine=True, track_running_stats=True)\n",
       "   )\n",
       "   (2): BasicBlock(\n",
       "     (conv1): Conv2d(64, 64, kernel_size=(3, 3), stride=(1, 1), padding=(1, 1), bias=False)\n",
       "     (bn1): BatchNorm2d(64, eps=1e-05, momentum=0.1, affine=True, track_running_stats=True)\n",
       "     (relu): ReLU(inplace=True)\n",
       "     (conv2): Conv2d(64, 64, kernel_size=(3, 3), stride=(1, 1), padding=(1, 1), bias=False)\n",
       "     (bn2): BatchNorm2d(64, eps=1e-05, momentum=0.1, affine=True, track_running_stats=True)\n",
       "   )\n",
       "   (3): BasicBlock(\n",
       "     (conv1): Conv2d(64, 64, kernel_size=(3, 3), stride=(1, 1), padding=(1, 1), bias=False)\n",
       "     (bn1): BatchNorm2d(64, eps=1e-05, momentum=0.1, affine=True, track_running_stats=True)\n",
       "     (relu): ReLU(inplace=True)\n",
       "     (conv2): Conv2d(64, 64, kernel_size=(3, 3), stride=(1, 1), padding=(1, 1), bias=False)\n",
       "     (bn2): BatchNorm2d(64, eps=1e-05, momentum=0.1, affine=True, track_running_stats=True)\n",
       "   )\n",
       "   (4): BasicBlock(\n",
       "     (conv1): Conv2d(64, 64, kernel_size=(3, 3), stride=(1, 1), padding=(1, 1), bias=False)\n",
       "     (bn1): BatchNorm2d(64, eps=1e-05, momentum=0.1, affine=True, track_running_stats=True)\n",
       "     (relu): ReLU(inplace=True)\n",
       "     (conv2): Conv2d(64, 64, kernel_size=(3, 3), stride=(1, 1), padding=(1, 1), bias=False)\n",
       "     (bn2): BatchNorm2d(64, eps=1e-05, momentum=0.1, affine=True, track_running_stats=True)\n",
       "   )\n",
       " ),\n",
       " Sequential(\n",
       "   (0): Conv2d(64, 3, kernel_size=(1, 1), stride=(1, 1))\n",
       "   (1): ReLU(inplace=True)\n",
       " )]"
      ]
     },
     "execution_count": 25,
     "metadata": {},
     "output_type": "execute_result"
    }
   ],
   "source": [
    "list(unet.children())"
   ]
  },
  {
   "cell_type": "code",
   "execution_count": 26,
   "id": "aca04517",
   "metadata": {},
   "outputs": [
    {
     "data": {
      "text/plain": [
       "==========================================================================================\n",
       "Layer (type:depth-idx)                   Output Shape              Param #\n",
       "==========================================================================================\n",
       "Unet_ResNet                              --                        --\n",
       "├─Sequential: 1-1                        [1, 64, 28, 28]           --\n",
       "│    └─Conv2d: 2-1                       [1, 64, 28, 28]           256\n",
       "│    └─ReLU: 2-2                         [1, 64, 28, 28]           --\n",
       "├─Sequential: 1-2                        [1, 64, 28, 28]           --\n",
       "│    └─BasicBlock: 2-3                   [1, 64, 28, 28]           --\n",
       "│    │    └─Conv2d: 3-1                  [1, 64, 28, 28]           36,864\n",
       "│    │    └─BatchNorm2d: 3-2             [1, 64, 28, 28]           128\n",
       "│    │    └─ReLU: 3-3                    [1, 64, 28, 28]           --\n",
       "│    │    └─Conv2d: 3-4                  [1, 64, 28, 28]           36,864\n",
       "│    │    └─BatchNorm2d: 3-5             [1, 64, 28, 28]           128\n",
       "│    │    └─ReLU: 3-6                    [1, 64, 28, 28]           --\n",
       "│    └─BasicBlock: 2-4                   [1, 64, 28, 28]           --\n",
       "│    │    └─Conv2d: 3-7                  [1, 64, 28, 28]           36,864\n",
       "│    │    └─BatchNorm2d: 3-8             [1, 64, 28, 28]           128\n",
       "│    │    └─ReLU: 3-9                    [1, 64, 28, 28]           --\n",
       "│    │    └─Conv2d: 3-10                 [1, 64, 28, 28]           36,864\n",
       "│    │    └─BatchNorm2d: 3-11            [1, 64, 28, 28]           128\n",
       "│    │    └─ReLU: 3-12                   [1, 64, 28, 28]           --\n",
       "│    └─BasicBlock: 2-5                   [1, 64, 28, 28]           --\n",
       "│    │    └─Conv2d: 3-13                 [1, 64, 28, 28]           36,864\n",
       "│    │    └─BatchNorm2d: 3-14            [1, 64, 28, 28]           128\n",
       "│    │    └─ReLU: 3-15                   [1, 64, 28, 28]           --\n",
       "│    │    └─Conv2d: 3-16                 [1, 64, 28, 28]           36,864\n",
       "│    │    └─BatchNorm2d: 3-17            [1, 64, 28, 28]           128\n",
       "│    │    └─ReLU: 3-18                   [1, 64, 28, 28]           --\n",
       "│    └─BasicBlock: 2-6                   [1, 64, 28, 28]           --\n",
       "│    │    └─Conv2d: 3-19                 [1, 64, 28, 28]           36,864\n",
       "│    │    └─BatchNorm2d: 3-20            [1, 64, 28, 28]           128\n",
       "│    │    └─ReLU: 3-21                   [1, 64, 28, 28]           --\n",
       "│    │    └─Conv2d: 3-22                 [1, 64, 28, 28]           36,864\n",
       "│    │    └─BatchNorm2d: 3-23            [1, 64, 28, 28]           128\n",
       "│    │    └─ReLU: 3-24                   [1, 64, 28, 28]           --\n",
       "│    └─BasicBlock: 2-7                   [1, 64, 28, 28]           --\n",
       "│    │    └─Conv2d: 3-25                 [1, 64, 28, 28]           36,864\n",
       "│    │    └─BatchNorm2d: 3-26            [1, 64, 28, 28]           128\n",
       "│    │    └─ReLU: 3-27                   [1, 64, 28, 28]           --\n",
       "│    │    └─Conv2d: 3-28                 [1, 64, 28, 28]           36,864\n",
       "│    │    └─BatchNorm2d: 3-29            [1, 64, 28, 28]           128\n",
       "│    │    └─ReLU: 3-30                   [1, 64, 28, 28]           --\n",
       "├─Sequential: 1-3                        [1, 3, 28, 28]            --\n",
       "│    └─Conv2d: 2-8                       [1, 3, 28, 28]            195\n",
       "│    └─ReLU: 2-9                         [1, 3, 28, 28]            --\n",
       "==========================================================================================\n",
       "Total params: 370,371\n",
       "Trainable params: 370,371\n",
       "Non-trainable params: 0\n",
       "Total mult-adds (M): 289.37\n",
       "==========================================================================================\n",
       "Input size (MB): 0.01\n",
       "Forward/backward pass size (MB): 8.45\n",
       "Params size (MB): 1.48\n",
       "Estimated Total Size (MB): 9.94\n",
       "=========================================================================================="
      ]
     },
     "execution_count": 26,
     "metadata": {},
     "output_type": "execute_result"
    }
   ],
   "source": [
    "batch_size = 1\n",
    "summary(unet, input_size=(batch_size, 3, 28, 28))"
   ]
  },
  {
   "cell_type": "code",
   "execution_count": null,
   "id": "7d7be5ee",
   "metadata": {},
   "outputs": [],
   "source": []
  },
  {
   "cell_type": "code",
   "execution_count": null,
   "id": "6f195580",
   "metadata": {},
   "outputs": [],
   "source": []
  },
  {
   "cell_type": "code",
   "execution_count": 27,
   "id": "c37de721",
   "metadata": {},
   "outputs": [],
   "source": [
    "class Lens_Network(nn.Module):\n",
    "    def __init__(self):\n",
    "        super().__init__()\n",
    "        #Lens component\n",
    "        self.lens = Unet_ResNet()\n",
    "        \n",
    "        #Feature extraction\n",
    "        res = models.resnet50()\n",
    "        res.fc = torch.nn.Linear(in_features=2048, out_features=4, bias=True)\n",
    "        self.res = res\n",
    "        \n",
    "    def forward(self, x: Tensor) -> Tensor:\n",
    "        orig = x\n",
    "        lens_output = self.lens(x)\n",
    "        x = lens_output + orig\n",
    "        x = self.res(x)\n",
    "        return lens_output, x"
   ]
  },
  {
   "cell_type": "code",
   "execution_count": 28,
   "id": "1f09fccc",
   "metadata": {},
   "outputs": [],
   "source": [
    "lens = Lens_Network()"
   ]
  },
  {
   "cell_type": "code",
   "execution_count": null,
   "id": "1410f40e",
   "metadata": {},
   "outputs": [],
   "source": []
  },
  {
   "cell_type": "code",
   "execution_count": null,
   "id": "087c2ed6",
   "metadata": {},
   "outputs": [],
   "source": []
  }
 ],
 "metadata": {
  "kernelspec": {
   "display_name": "Python 3 (ipykernel)",
   "language": "python",
   "name": "python3"
  },
  "language_info": {
   "codemirror_mode": {
    "name": "ipython",
    "version": 3
   },
   "file_extension": ".py",
   "mimetype": "text/x-python",
   "name": "python",
   "nbconvert_exporter": "python",
   "pygments_lexer": "ipython3",
   "version": "3.7.11"
  }
 },
 "nbformat": 4,
 "nbformat_minor": 5
}
